{
  "cells": [
    {
      "cell_type": "markdown",
      "metadata": {
        "id": "5l0a7C6JHe40"
      },
      "source": [
        "# 1. FastQC"
      ]
    },
    {
      "cell_type": "markdown",
      "source": [
        "Установка"
      ],
      "metadata": {
        "id": "Zm4-18T73-om"
      }
    },
    {
      "cell_type": "code",
      "execution_count": null,
      "metadata": {
        "id": "esYQuHKO8nAg"
      },
      "outputs": [],
      "source": [
        "!wget https://www.bioinformatics.babraham.ac.uk/projects/fastqc/fastqc_v0.11.9.zip\n",
        "!unzip fastqc_v0.11.9.zip\n",
        "!chmod a+x FastQC/fastqc"
      ]
    },
    {
      "cell_type": "markdown",
      "source": [
        "Загружаем один из файлов (8 Cell) "
      ],
      "metadata": {
        "id": "wEJZ11Xg4WNG"
      }
    },
    {
      "cell_type": "code",
      "execution_count": 6,
      "metadata": {
        "colab": {
          "base_uri": "https://localhost:8080/"
        },
        "id": "c5QMGKJYxrza",
        "outputId": "6df8e341-eeca-46c1-d8ab-d26fb99b83bf"
      },
      "outputs": [
        {
          "output_type": "stream",
          "name": "stdout",
          "text": [
            "--2022-02-17 19:36:47--  ftp://ftp.sra.ebi.ac.uk/vol1/fastq/SRR583/003/SRR5836473/SRR5836473_1.fastq.gz\n",
            "           => ‘SRR5836473_1.fastq.gz’\n",
            "Resolving ftp.sra.ebi.ac.uk (ftp.sra.ebi.ac.uk)... 193.62.197.74\n",
            "Connecting to ftp.sra.ebi.ac.uk (ftp.sra.ebi.ac.uk)|193.62.197.74|:21... connected.\n",
            "Logging in as anonymous ... Logged in!\n",
            "==> SYST ... done.    ==> PWD ... done.\n",
            "==> TYPE I ... done.  ==> CWD (1) /vol1/fastq/SRR583/003/SRR5836473 ... done.\n",
            "==> SIZE SRR5836473_1.fastq.gz ... 6856386252\n",
            "==> PASV ... done.    ==> RETR SRR5836473_1.fastq.gz ... done.\n",
            "Length: 6856386252 (6.4G) (unauthoritative)\n",
            "\n",
            "SRR5836473_1.fastq. 100%[===================>]   6.38G  18.2MB/s    in 9m 18s  \n",
            "\n",
            "2022-02-17 19:46:06 (11.7 MB/s) - ‘SRR5836473_1.fastq.gz’ saved [6856386252]\n",
            "\n"
          ]
        }
      ],
      "source": [
        "! wget ftp://ftp.sra.ebi.ac.uk/vol1/fastq/SRR583/003/SRR5836473/SRR5836473_1.fastq.gz"
      ]
    },
    {
      "cell_type": "code",
      "source": [
        "! gunzip SRR5836473_1.fastq.gz"
      ],
      "metadata": {
        "id": "HcBPtsbWIzyk"
      },
      "execution_count": 7,
      "outputs": []
    },
    {
      "cell_type": "markdown",
      "source": [
        "fastqc"
      ],
      "metadata": {
        "id": "R21RnRIjRhsp"
      }
    },
    {
      "cell_type": "code",
      "source": [
        "! ./FastQC/fastqc  /content/drive/MyDrive/SRR5836473_1.fastq"
      ],
      "metadata": {
        "colab": {
          "base_uri": "https://localhost:8080/"
        },
        "id": "OpzwIF3NRgqf",
        "outputId": "732fdbad-7b92-4b42-b0c7-2d6c3fabc902"
      },
      "execution_count": 10,
      "outputs": [
        {
          "output_type": "stream",
          "name": "stdout",
          "text": [
            "Started analysis of SRR5836473_1.fastq\n",
            "Approx 5% complete for SRR5836473_1.fastq\n",
            "Approx 10% complete for SRR5836473_1.fastq\n",
            "Approx 15% complete for SRR5836473_1.fastq\n",
            "Approx 20% complete for SRR5836473_1.fastq\n",
            "Approx 25% complete for SRR5836473_1.fastq\n",
            "Approx 30% complete for SRR5836473_1.fastq\n",
            "Approx 35% complete for SRR5836473_1.fastq\n",
            "Approx 40% complete for SRR5836473_1.fastq\n",
            "Approx 45% complete for SRR5836473_1.fastq\n",
            "Approx 50% complete for SRR5836473_1.fastq\n",
            "Approx 55% complete for SRR5836473_1.fastq\n",
            "Approx 60% complete for SRR5836473_1.fastq\n",
            "Approx 65% complete for SRR5836473_1.fastq\n",
            "Approx 70% complete for SRR5836473_1.fastq\n",
            "Approx 75% complete for SRR5836473_1.fastq\n",
            "Approx 80% complete for SRR5836473_1.fastq\n",
            "Approx 85% complete for SRR5836473_1.fastq\n",
            "Approx 90% complete for SRR5836473_1.fastq\n",
            "Approx 95% complete for SRR5836473_1.fastq\n",
            "Analysis complete for SRR5836473_1.fastq\n"
          ]
        }
      ]
    },
    {
      "cell_type": "markdown",
      "source": [
        "# 2 "
      ],
      "metadata": {
        "id": "dxgbLXDoMNDb"
      }
    },
    {
      "cell_type": "markdown",
      "metadata": {
        "id": "Ugk3bV0LI5El"
      },
      "source": [
        "### Установка Bismark с зависимостями (+bowtie2, samtools)"
      ]
    },
    {
      "cell_type": "code",
      "execution_count": 17,
      "metadata": {
        "colab": {
          "base_uri": "https://localhost:8080/"
        },
        "id": "uSOZLyn5n5Nl",
        "outputId": "bf649a16-7b81-498f-f2e2-a1d11b81e6cb"
      },
      "outputs": [
        {
          "output_type": "stream",
          "name": "stdout",
          "text": [
            "⏬ Downloading https://github.com/jaimergp/miniforge/releases/latest/download/Mambaforge-colab-Linux-x86_64.sh...\n",
            "📦 Installing...\n",
            "📌 Adjusting configuration...\n",
            "🩹 Patching environment...\n",
            "⏲ Done in 0:00:34\n",
            "🔁 Restarting kernel...\n"
          ]
        }
      ],
      "source": [
        "! pip install -q condacolab\n",
        "import condacolab\n",
        "condacolab.install()"
      ]
    },
    {
      "cell_type": "code",
      "execution_count": 18,
      "metadata": {
        "colab": {
          "base_uri": "https://localhost:8080/",
          "height": 0
        },
        "id": "npb--DNtn52o",
        "outputId": "a0ba0bd4-0a88-430e-81f5-9ee4e015af2e"
      },
      "outputs": [
        {
          "output_type": "error",
          "ename": "AssertionError",
          "evalue": "ignored",
          "traceback": [
            "\u001b[0;31m---------------------------------------------------------------------------\u001b[0m",
            "\u001b[0;31mAssertionError\u001b[0m                            Traceback (most recent call last)",
            "\u001b[0;32m<ipython-input-18-9ce5e157f4c4>\u001b[0m in \u001b[0;36m<module>\u001b[0;34m()\u001b[0m\n\u001b[1;32m      1\u001b[0m \u001b[0;32mimport\u001b[0m \u001b[0mcondacolab\u001b[0m\u001b[0;34m\u001b[0m\u001b[0;34m\u001b[0m\u001b[0m\n\u001b[0;32m----> 2\u001b[0;31m \u001b[0mcondacolab\u001b[0m\u001b[0;34m.\u001b[0m\u001b[0mcheck\u001b[0m\u001b[0;34m(\u001b[0m\u001b[0;34m)\u001b[0m\u001b[0;34m\u001b[0m\u001b[0;34m\u001b[0m\u001b[0m\n\u001b[0m",
            "\u001b[0;32m/usr/local/lib/python3.7/dist-packages/condacolab.py\u001b[0m in \u001b[0;36mcheck\u001b[0;34m(prefix, verbose)\u001b[0m\n\u001b[1;32m    302\u001b[0m     assert (\n\u001b[1;32m    303\u001b[0m         \u001b[0;34mf\"{prefix}/lib\"\u001b[0m \u001b[0;32min\u001b[0m \u001b[0mos\u001b[0m\u001b[0;34m.\u001b[0m\u001b[0menviron\u001b[0m\u001b[0;34m[\u001b[0m\u001b[0;34m\"LD_LIBRARY_PATH\"\u001b[0m\u001b[0;34m]\u001b[0m\u001b[0;34m\u001b[0m\u001b[0;34m\u001b[0m\u001b[0m\n\u001b[0;32m--> 304\u001b[0;31m     ), f\"💥💔💥 LD_LIBRARY_PATH was not patched! Value: {os.environ['LD_LIBRARY_PATH']}\"\n\u001b[0m\u001b[1;32m    305\u001b[0m     \u001b[0;32mif\u001b[0m \u001b[0mverbose\u001b[0m\u001b[0;34m:\u001b[0m\u001b[0;34m\u001b[0m\u001b[0;34m\u001b[0m\u001b[0m\n\u001b[1;32m    306\u001b[0m         \u001b[0mprint\u001b[0m\u001b[0;34m(\u001b[0m\u001b[0;34m\"✨🍰✨ Everything looks OK!\"\u001b[0m\u001b[0;34m)\u001b[0m\u001b[0;34m\u001b[0m\u001b[0;34m\u001b[0m\u001b[0m\n",
            "\u001b[0;31mAssertionError\u001b[0m: 💥💔💥 LD_LIBRARY_PATH was not patched! Value: /usr/local/nvidia/lib:/usr/local/nvidia/lib64"
          ]
        }
      ],
      "source": [
        "import condacolab\n",
        "condacolab.check()"
      ]
    },
    {
      "cell_type": "code",
      "execution_count": 1,
      "metadata": {
        "colab": {
          "base_uri": "https://localhost:8080/"
        },
        "id": "MfBSN4YuoCL6",
        "outputId": "f5281baf-fcc6-4955-f149-8ab1d2d0893c"
      },
      "outputs": [
        {
          "output_type": "stream",
          "name": "stdout",
          "text": [
            "Collecting package metadata (current_repodata.json): - \b\b\\ \b\b| \b\b/ \b\b- \b\b\\ \b\b| \b\b/ \b\b- \b\b\\ \b\b| \b\b/ \b\b- \b\b\\ \b\b| \b\b/ \b\b- \b\b\\ \b\b| \b\b/ \b\b- \b\b\\ \b\b| \b\b/ \b\b- \b\b\\ \b\b| \b\b/ \b\b- \b\b\\ \b\b| \b\b/ \b\b- \b\b\\ \b\b| \b\b/ \b\b- \b\b\\ \b\b| \b\b/ \b\b- \b\b\\ \b\b| \b\b/ \b\b- \b\b\\ \b\b| \b\b/ \b\b- \b\b\\ \b\b| \b\b/ \b\b- \b\b\\ \b\b| \b\b/ \b\b- \b\b\\ \b\b| \b\b/ \b\b- \b\b\\ \b\b| \b\b/ \b\b- \b\b\\ \b\b| \b\b/ \b\b- \b\b\\ \b\b| \b\b/ \b\b- \b\b\\ \b\b| \b\b/ \b\b- \b\b\\ \b\b| \b\b/ \b\b- \b\b\\ \b\b| \b\b/ \b\b- \b\b\\ \b\b| \b\b/ \b\b- \b\b\\ \b\b| \b\b/ \b\b- \b\b\\ \b\b| \b\b/ \b\b- \b\b\\ \b\b| \b\b/ \b\b- \b\b\\ \b\b| \b\b/ \b\b- \b\b\\ \b\b| \b\b/ \b\b- \b\b\\ \b\b| \b\b/ \b\b- \b\b\\ \b\b| \b\b/ \b\b- \b\b\\ \b\b| \b\b/ \b\b- \b\b\\ \b\b| \b\b/ \b\b- \b\b\\ \b\b| \b\b/ \b\b- \b\bdone\n",
            "Solving environment: | \b\b/ \b\b- \b\b\\ \b\b| \b\b/ \b\b- \b\b\\ \b\b| \b\b/ \b\bdone\n",
            "\n",
            "## Package Plan ##\n",
            "\n",
            "  environment location: /usr/local\n",
            "\n",
            "  added / updated specs:\n",
            "    - bismark\n",
            "\n",
            "\n",
            "The following packages will be downloaded:\n",
            "\n",
            "    package                    |            build\n",
            "    ---------------------------|-----------------\n",
            "    bismark-0.23.1             |       hdfd78af_0         6.6 MB  bioconda\n",
            "    bowtie2-2.2.5              |   py37h22450f8_8        14.9 MB  bioconda\n",
            "    ca-certificates-2021.10.8  |       ha878542_0         139 KB  conda-forge\n",
            "    certifi-2021.10.8          |   py37h89c1867_1         145 KB  conda-forge\n",
            "    conda-4.11.0               |   py37h89c1867_0        16.9 MB  conda-forge\n",
            "    hisat2-2.2.1               |       h1b792b2_3        16.5 MB  bioconda\n",
            "    perl-5.32.1                | 0_h7f98852_perl5        14.5 MB  conda-forge\n",
            "    python_abi-3.7             |          2_cp37m           4 KB  conda-forge\n",
            "    samtools-1.3.1             |                0         1.5 MB  bioconda\n",
            "    ------------------------------------------------------------\n",
            "                                           Total:        71.1 MB\n",
            "\n",
            "The following NEW packages will be INSTALLED:\n",
            "\n",
            "  bismark            bioconda/noarch::bismark-0.23.1-hdfd78af_0\n",
            "  bowtie2            bioconda/linux-64::bowtie2-2.2.5-py37h22450f8_8\n",
            "  hisat2             bioconda/linux-64::hisat2-2.2.1-h1b792b2_3\n",
            "  perl               conda-forge/linux-64::perl-5.32.1-0_h7f98852_perl5\n",
            "  samtools           bioconda/linux-64::samtools-1.3.1-0\n",
            "\n",
            "The following packages will be UPDATED:\n",
            "\n",
            "  ca-certificates                      2020.12.5-ha878542_0 --> 2021.10.8-ha878542_0\n",
            "  certifi                          2020.12.5-py37h89c1867_1 --> 2021.10.8-py37h89c1867_1\n",
            "  conda                                4.9.2-py37h89c1867_0 --> 4.11.0-py37h89c1867_0\n",
            "  python_abi                                    3.7-1_cp37m --> 3.7-2_cp37m\n",
            "\n",
            "\n",
            "\n",
            "Downloading and Extracting Packages\n",
            "ca-certificates-2021 | 139 KB    | : 100% 1.0/1 [00:00<00:00,  7.05it/s]               \n",
            "bowtie2-2.2.5        | 14.9 MB   | : 100% 1.0/1 [00:03<00:00,  3.54s/it]               \n",
            "perl-5.32.1          | 14.5 MB   | : 100% 1.0/1 [00:05<00:00,  5.37s/it]\n",
            "python_abi-3.7       | 4 KB      | : 100% 1.0/1 [00:00<00:00, 20.42it/s]\n",
            "hisat2-2.2.1         | 16.5 MB   | : 100% 1.0/1 [00:04<00:00,  4.16s/it]               \n",
            "samtools-1.3.1       | 1.5 MB    | : 100% 1.0/1 [00:00<00:00,  2.51it/s]\n",
            "conda-4.11.0         | 16.9 MB   | : 100% 1.0/1 [00:05<00:00,  5.83s/it]\n",
            "bismark-0.23.1       | 6.6 MB    | : 100% 1.0/1 [00:01<00:00,  1.94s/it]\n",
            "certifi-2021.10.8    | 145 KB    | : 100% 1.0/1 [00:00<00:00,  9.64it/s]\n",
            "Preparing transaction: \\ \b\b| \b\bdone\n",
            "Verifying transaction: - \b\b\\ \b\b| \b\b/ \b\b- \b\b\\ \b\b| \b\b/ \b\b- \b\b\\ \b\b| \b\bdone\n",
            "Executing transaction: - \b\b\\ \b\b| \b\b/ \b\bdone\n"
          ]
        }
      ],
      "source": [
        "! conda install -c bioconda bismark"
      ]
    },
    {
      "cell_type": "markdown",
      "source": [
        "Проверка работы"
      ],
      "metadata": {
        "id": "vb-Gudm9ZsZ4"
      }
    },
    {
      "cell_type": "code",
      "execution_count": 4,
      "metadata": {
        "colab": {
          "base_uri": "https://localhost:8080/"
        },
        "id": "13VM_exnoHEl",
        "outputId": "bdef2ecd-6747-4703-f05e-f55d8d711b67"
      },
      "outputs": [
        {
          "output_type": "stream",
          "name": "stdout",
          "text": [
            "\n",
            "Usage: samtools view [options] <in.bam>|<in.sam>|<in.cram> [region ...]\n",
            "\n",
            "Options:\n",
            "  -b       output BAM\n",
            "  -C       output CRAM (requires -T)\n",
            "  -1       use fast BAM compression (implies -b)\n",
            "  -u       uncompressed BAM output (implies -b)\n",
            "  -h       include header in SAM output\n",
            "  -H       print SAM header only (no alignments)\n",
            "  -c       print only the count of matching records\n",
            "  -o FILE  output file name [stdout]\n",
            "  -U FILE  output reads not selected by filters to FILE [null]\n",
            "  -t FILE  FILE listing reference names and lengths (see long help) [null]\n",
            "  -L FILE  only include reads overlapping this BED FILE [null]\n",
            "  -r STR   only include reads in read group STR [null]\n",
            "  -R FILE  only include reads with read group listed in FILE [null]\n",
            "  -q INT   only include reads with mapping quality >= INT [0]\n",
            "  -l STR   only include reads in library STR [null]\n",
            "  -m INT   only include reads with number of CIGAR operations consuming\n",
            "           query sequence >= INT [0]\n",
            "  -f INT   only include reads with all bits set in INT set in FLAG [0]\n",
            "  -F INT   only include reads with none of the bits set in INT set in FLAG [0]\n",
            "  -x STR   read tag to strip (repeatable) [null]\n",
            "  -B       collapse the backward CIGAR operation\n",
            "  -s FLOAT integer part sets seed of random number generator [0];\n",
            "           rest sets fraction of templates to subsample [no subsampling]\n",
            "  -@, --threads INT\n",
            "           number of BAM/CRAM compression threads [0]\n",
            "  -?       print long help, including note about region specification\n",
            "  -S       ignored (input format is auto-detected)\n",
            "      --input-fmt-option OPT[=VAL]\n",
            "               Specify a single input file format option in the form\n",
            "               of OPTION or OPTION=VALUE\n",
            "  -O, --output-fmt FORMAT[,OPT[=VAL]]...\n",
            "               Specify output format (SAM, BAM, CRAM)\n",
            "      --output-fmt-option OPT[=VAL]\n",
            "               Specify a single output file format option in the form\n",
            "               of OPTION or OPTION=VALUE\n",
            "  -T, --reference FILE\n",
            "               Reference sequence FASTA FILE [null]\n",
            "\n"
          ]
        }
      ],
      "source": [
        "! samtools view"
      ]
    },
    {
      "cell_type": "markdown",
      "metadata": {
        "id": "lBUia_8DP-gu"
      },
      "source": [
        "Загружаем файлы .bam с google drive (скачала к себе и загрузила локально, поэтому без !gdown --id)"
      ]
    },
    {
      "cell_type": "code",
      "source": [
        "from google.colab import drive\n",
        "drive.mount('/content/drive')"
      ],
      "metadata": {
        "colab": {
          "base_uri": "https://localhost:8080/"
        },
        "id": "aOUzt0Ymhjpa",
        "outputId": "adfe5154-6016-4bd4-ff7e-d36e74666478"
      },
      "execution_count": 8,
      "outputs": [
        {
          "output_type": "stream",
          "name": "stdout",
          "text": [
            "Drive already mounted at /content/drive; to attempt to forcibly remount, call drive.mount(\"/content/drive\", force_remount=True).\n"
          ]
        }
      ]
    },
    {
      "cell_type": "code",
      "execution_count": 6,
      "metadata": {
        "id": "cuOUtgXNwoQh"
      },
      "outputs": [],
      "source": [
        "# bam файлы\n",
        "# /content/drive/MyDrive/bioinfHW1/cell8/SRR5836473_1_bismark_bt2_pe.bam\n",
        "# /content/drive/MyDrive/bioinfHW1/epiblast/SRR3824222_1_bismark_bt2_pe.bam\n",
        "# /content/drive/MyDrive/bioinfHW1/ICM/SRR5836475_1_bismark_bt2_pe.bam\n"
      ]
    },
    {
      "cell_type": "code",
      "source": [
        "# отчет о выравнивании\n",
        "# /content/drive/MyDrive/bioinfHW1/cell8/SRR5836473_1_bismark_bt2_PE_report.txt\n",
        "# /content/drive/MyDrive/bioinfHW1/epiblast/SRR3824222_1_bismark_bt2_PE_report.txt\n",
        "# /content/drive/MyDrive/bioinfHW1/ICM/SRR5836475_1_bismark_bt2_PE_report.txt\n"
      ],
      "metadata": {
        "id": "3mzKbudGnsKn"
      },
      "execution_count": 7,
      "outputs": []
    },
    {
      "cell_type": "markdown",
      "source": [
        "### Число ридов, закартированных на участки 11347700-11367700; 40185800-40195800"
      ],
      "metadata": {
        "id": "EIuKpwRGNGSa"
      }
    },
    {
      "cell_type": "code",
      "execution_count": 9,
      "metadata": {
        "colab": {
          "base_uri": "https://localhost:8080/"
        },
        "id": "yMQy_LQ8xSOP",
        "outputId": "a808e472-4a61-4e5d-c6d8-b57f27d4b217"
      },
      "outputs": [
        {
          "output_type": "stream",
          "name": "stdout",
          "text": [
            "SRR5836473.18_18/1\t99\tchr11\t116830009\t0\t139M\t=\t116830059\t190\tTTTATTTTGTTATTGGATTTAGAGATTATTTGGCGGGAATCGGGTTTTTTTTTTTTTTTTTTATAATAGAGTGTCGTAATAGTAAAATTGAGTTTTGATTAGAGTGATTTTGATTTGGTTTCGTTTTTTTTTTCGTTCG\tFKKKKKKKKKKKKKKKK<FKKKKFKKKKKKKKKKKKKFKKKKKKFAFKKKKKKKKKKKKKKKAKFFFFKFF7FFFKFKK7AKKKKKKKKAFKKKKAFKKAFKFK,F<FAKKKAFAFFF,FKKKKKKKKKKKKFF<A77F\tNM:i:37\tMD:Z:0C1C2C0C2C2C6C0C23C0C0C0C0C1C0C0C0C0C2C0C2C4C0T8G2C12C4T1C7C0C4C4C1C4C3C2C3C2\tXM:Z:h.h..hx..h..x......x.............Z......Z...hhhhh.hhhhh..hh..h....x.......Z....x............h......x.......hh....h....h.xZ...h...h..xZ..xZ.\tXR:Z:CT\tXG:Z:CT\n",
            "SRR5836473.18_18/1\t147\tchr11\t116830059\t0\t140M\t=\t116830009\t-190\tTTTTTTTTTTTTATAATAGAGTGTCGTAATAGTAAAATTGAGTTTTGATTAGAGTGATTTTGATTTGGTTTCGTTTTTTTTTTCGTTCGTTTAGTTTTTTTTTTGTAGTTCGAGTTGTTATTTTAGTTGAATTGTTTATT\tKKF<A,KAFA7A7,K77KF<F<A<F<7,,7,7A7,,7AFFFA<,KKKAA<<,7KAF7KKFAA<AKFKKF7<KKKKFKKKKKFFKKFFFKKKKKKKKKFKKKKKKKKFKKFKKKKKKKKKKKKKKKKKKKKKKKKKKKKKF\tNM:i:39\tMD:Z:0C0C0C0C0C2C0C2C4C0T8G2C12C4T1C7C0C4C4C1C4C3C2C3C3C5C0C1C1C2T0C2C0C7C0C2C9C0C3C3\tXM:Z:hhhhh..hh..h....x.......Z....x............h......x.......hh....h....h.xZ...h...h..xZ..xZ..h.....hh.h.h...x..hxZ......hh..h.........xz...h...\tXR:Z:GA\tXG:Z:CT\n",
            "SRR5836473.30_30/1\t99\tchr11\t24232407\t0\t140M\t=\t24232506\t239\tGGTAAGAAGGATATATGTTTAATTATGTTTATAGTAGTTTTATTTATAATAGTTAGAAGTTGGAAAGAATTTAGATGTTTTTCAATAGAGGAATGGATATTAAAAAATGTGGTATATTTATATAATGGAGTATTATTTAG\tKKKKKKKKKKKKKKKKKKKKKKKKKKKKKKKKKKKKKKKKKKKKKKKKKKKKKKKKKKKKKKKKKKKKKKKKKKKKKKKKKKKKKKKKKKKKKKKKKKKKKKKKKKKKKFFKKKKKKKKKKKKKKKKKKKFKKKKKAFKK\tNM:i:29\tMD:Z:0T10C1C3C1C0C1C6C4C2C0C13C0C5C9C0C0C5C0C0C0C4C13C0C13C5C1C12C1C2\tXM:Z:...........h.h...h.h..h......h....x..hh.............hx.....x.........hhx.....hhhh.H..x.............hh.............h.....h.h............h.x..\tXR:Z:CT\tXG:Z:CT\n",
            "SRR5836473.30_30/1\t147\tchr11\t24232506\t0\t140M\t=\t24232407\t-239\tTTAAAAAATGTGGTATATTTATATAATGGAGTATTATTTAGTTATTAAAAAGAATGAATTTATGAAATTTTTAGGTAAATGGATGGATTTGGAGGGTATTATTTTGAGTGAGGTAATTTAATTATAAAAGAATTTATATG\t7AKKKKFFFAA7AKFAKKFKFAKKKKKFA7KKKFAFFAKKKKKKFFKFKKKKKKKKKAKKKKKFKKKKKKKKKKKKKFKKKKKKKKKFKKKKKKKKKKKKKKA<AKFKF<AKKKKKKFKFKKKKKKKKKKKKKKKKKKFF\tNM:i:28\tMD:Z:0C0C13C5C1C12C1C2C27C0C4C0C10C0C7C2C2C0C12C0C0C3C1C7C1C1C1C0A0\tXM:Z:hh.............h.....h.h............h.x..h...........................hh....h...........hx.......h..h..hx............hhh...h.h.......h.h.h.h.\tXR:Z:GA\tXG:Z:CT\n",
            "SRR5836473.39_39/1\t83\tchr11\t105051790\t0\t13M1D127M\t=\t105051789\t-142\tTTAAAAACTACATATACTAATATACTAACAAACAAATAAACCAATAAAATAAAATTAAAAACCCAAAAATAAACCCACACACCTATAATCACTTAATCTTTATCAAAAAAACTAAAACCATCCAATAAAAAAAAAACACC\tKFKKKKKKKKKKKKKKKKKKKKKKKKKKKKKKKKKKKKKKKKKKKKKKKKKKKKKKKKKFKKKKKKKKKKKKFKKKKKFKKKKKKKKKKKKKKKKKKKKKKKKKKKKKKKKKKKKKFKKKKKKKKKKKKKKKKKKKKKKK\tNM:i:31\tMD:Z:0A8G3^G0G4G0G6G3G4G2G6G0G4G4G2G5G4G15G0G6G6G0A3G0G0G1G13G1G0G6G3G1\tXM:Z:.........x...h....xh......x...x....h..h......hh....h....h..h.....x....h...............hh......h......h....hhh.h.............x.hh......h.....\tXR:Z:CT\tXG:Z:GA\n",
            "SRR5836473.39_39/1\t163\tchr11\t105051789\t0\t14M1D126M\t=\t105051790\t142\tATTAAAAACTACATATACTAATATACTAACAAACAAATAAACCAATAAAATAAAATTAAAAACCCAAAAATAAACCCACACACCTATAATCACTTAATCTTTATCAAAAAAACTAAAACCATCCAATAAAAAAAAAACAC\tKKKKKKKKKKKKKKKKKKKKKKKKKKKKKKKKKKKKKKKKKKKKKKKKKKKKKKKKKKKKKKKKKKKKKKKKKKKKKKKKKKKKKKKKKKKKKKKKKKKKFKKKKK<FKA<FKFFKKKKKKKKKFKFKKFK,,<FA,,7<\tNM:i:32\tMD:Z:0G0A8G3^G0G4G0G6G3G4G2G6G0G4G4G2G5G4G15G0G6G6G0A3G0G0G1G13G1G0G6G3G0\tXM:Z:h.........x...h....xh......x...x....h..h......hh....h....h..h.....x....h...............hh......h......h....hhh.h.............x.hh......h....\tXR:Z:GA\tXG:Z:GA\n",
            "SRR5836473.41_41/1\t99\tchr11\t40185837\t0\t140M\t=\t40185875\t178\tAATTTTTTTGGGGATTGTATTGAATTTGTAGATTGTTTTTGGTAAGAGAGTTATTTTTATTATATTGATTTTGTTAATTTATGAATATGGGAGATTTTTTTATTTTTTGAGATTTTTTTTAATTTTTTTTTTTAGAGATT\tKKKKKKKKKKKKKKKFKKKKKKKKKKKKKKFKKKKKKKKKFKKKKKKKKKFKKKKKKKKKKKKKKKKKKKKKKKKKKKKKKKKKKKKKKKKKKKKKKKKKKKKKKKKKKKKKKKKKKKKKKKKKKKKKKKKKKF7<77FF\tNM:i:28\tMD:Z:6G0A9C7C9C6C4T2C0C7C9C0C2C0C3C0C5C9C3C0C2C2C6C2C8C3C2C5C1\tXM:Z:.................h.......x.........h......h.......hh.......h.........hx..hh...hh.....h.........h...hh..h..x......h..h........h...h..x.....h.\tXR:Z:CT\tXG:Z:CT\n",
            "SRR5836473.41_41/1\t147\tchr11\t40185875\t0\t140M\t=\t40185837\t-178\tTTGGTAAGAGAGTTATTTTTATTATATTGATTTTGTTAATTTATGAATATGGGAGATTTTTTTATTTTTTGAGATTTTTTTTAATTTTTTTTTTTAGAGATTTGAAGTTTTTATTATATAGATTTTTTATTTTTTTAGTG\tAKKKKKAAFFFKKKKKKKKKKKKKFFKKKKKKKKKKFAFKKKKKKKKKKKKKKKKKKKKKKKKKKKKKKFKKKKKKKKKKKKFKKKKKKKKKKKKKKKKKKKKKKKKKKKKKKKKKKKKKKKKKKKKKKKKKKKKKKKKK\tNM:i:31\tMD:Z:4C4T2C0C7C9C0C2C0C3C0C5C9C3C0C2C2C6C2C8C3C2C5C8C4C3A4C3C1C2C6T0\tXM:Z:....h.......hh.......h.........hx..hh...hh.....h.........h...hh..h..x......h..h........h...h..x.....h........h....h........h...h.h..h.......\tXR:Z:GA\tXG:Z:CT\n",
            "SRR5836473.46_46/1\t83\tchr11\t22771774\t8\t140M\t=\t22771594\t-320\tCAAATTAAAAAAAAAAAAATAAAAATATCACTTTTTACAAATAATATAATAATATATATAAATAACCCTAAAAATTCTATCACAAAACTCCTAAACCTAATAAACAACTTCAATAAAATAACTAAATATAAAATTAACTC\tKKKKAAKKKKKKKKKKKKKKKKKKKKKKKKKKKKKKKKKKKKKKKKKKKKKKKKKKKKKKKKKKKKKKKKKKKKKKKKKKKKKKKKKKKKKKKKKKKKKKKKKKKKKKKKKKKKKKKKKKKKKKKKKKKKKKKKKKKKKK\tNM:i:26\tMD:Z:6G0G4G2G2G1C15G2G2G4G3G9G1G13C1C2G1G9G3G7G5G1G2G2G2G0G15\tXM:Z:......hh....h..h..h.................h..x..h....h...h.........h.h....................h.........h...x.......x.....x.h..h..h..xh...............\tXR:Z:CT\tXG:Z:GA\n",
            "SRR5836473.46_46/1\t163\tchr11\t22771594\t8\t140M\t=\t22771774\t320\tAGAATAAAAACAATCTACAACAAACCAATAACCAACATCAAAATAAATAATAAAAAACTAAAAACAATCCCACTAAAATCAAAAACTAAACAAAACTACCCACTTTCTCCCTACCTATTCAACATTATACTTAAAATCCT\tFKKKKKKKKKKKKKKKKKKKKKKKKKKKKKKKKKKKKKKKKKKKKKKKKKKKKKKKKKKKKKKKKKKKKKKKKKKKKKKKKAKKKKKKKKKKKKKKKKKKKKKKKKFFKFKKKKKKFKKKKKKK<AKKKKKKFFF7<A<K\tNM:i:25\tMD:Z:1T0G6G9G7G2G11G5G0G1G1G2G2G0G2G17G0G0G4G4G0G2G28G5G2G4\tXM:Z:..h......h.........x.......x..h...........h.....hh.h.h..h..xh..h.................xhh....h....hh..x............................h.....h..h....\tXR:Z:GA\tXG:Z:GA\n"
          ]
        }
      ],
      "source": [
        "! samtools view /content/drive/MyDrive/bioinfHW1/cell8/SRR5836473_1_bismark_bt2_pe.bam | head"
      ]
    },
    {
      "cell_type": "code",
      "source": [
        "! samtools view /content/drive/MyDrive/bioinfHW1/epiblast/SRR3824222_1_bismark_bt2_pe.bam | head"
      ],
      "metadata": {
        "colab": {
          "base_uri": "https://localhost:8080/"
        },
        "id": "QxonB6baoNVD",
        "outputId": "43c40d1b-6a73-4f10-d4ef-4380460bf0cb"
      },
      "execution_count": 10,
      "outputs": [
        {
          "output_type": "stream",
          "name": "stdout",
          "text": [
            "SRR3824222.40_40/1\t99\tchr11\t8735553\t16\t140M\t=\t8735587\t174\tTTAAAGGAGAATTGTTAATTTTAGATTTAGTAAGGTTTAGGTAAGAATTATGTTATTAGTAATATTACGATTTGTGGTTAAAATAGGAGTTGGAAGTTGTTTTTTTTTATTTTTGTTATTTTTATAGTTTGAGGAATTAA\tKKKKKKKKKKKKKKKKKKKKKKKKKKKKKKKKKKKKKKKKKKKKKKKKKKKKKKKKKKKKKKKKKKKKKKKKKKKKKKKKKKKKKKKKK7FKKKKKKKKKKKKKKKKKKKKKKKKKKKKKKKKKKKKKKKKKKKKKKKKK\tNM:i:29\tMD:Z:0C6T5A1C2C0C1C13C0C4C11C8C2C11C11C7C3C0C1C2C2C0C0C8C0C1C2C0C7C3\tXM:Z:h..............h..hh.x.............hh....h...........h........h..h.Z.........h...........x.......z...hh.h..h..hhx........hh.x..hx.......h...\tXR:Z:CT\tXG:Z:CT\n",
            "SRR3824222.40_40/1\t147\tchr11\t8735587\t16\t140M\t=\t8735553\t-174\tGTTTAGGTAAGAATTATGTTATTAGTAATATTACGATTTGTGGTTAAAATAGGAGTTGGAAGTTGTTTTTTTTTATTTTTGTTATTTTTATAGTTTGAGGAATTAAGGATATTTTGTAGTAATAGTAAGGGTGAAAAGTT\tKF<KKKKKKKKKKKKKKKFKKKKKKKKKFFAKKKKKKKKKKKKKKKKKKKKKKKKKKKKKKKKKKKKKKKKKKKKKKKKKKKKKKKKKKKKKKKKKKKKKKKKKKKKKKKKKKKKKKKKKKKKKKKKKKKKKKKKKKKKK\tNM:i:30\tMD:Z:1C0C4C11C8C2C11C11C7C3C0C1C2C2C0C0C8C0C1C2C0C7C6C1C0C3C5C2C12C0C0\tXM:Z:.hh....h...........h........h..h.Z.........h...........x.......z...hh.h..h..hhx........hh.x..hx.......h......h.hh...x.....x..h............hx\tXR:Z:GA\tXG:Z:CT\n",
            "SRR3824222.42_42/1\t99\tchr11\t8735518\t0\t140M\t=\t8735603\t225\tAATTAGTATGTATAGTTTTGAGTATTGTGTAGTTTTTAAAGGAGAATTGTTAATTTTAGATTTAGTAAGGTTTAGGAAAGAATTATGTTATTAGTAATATTACGATTTGTGGTTAAAATAGGAGTTGGAAGTCGTTTTTT\tKKKKKKKKKKKKKKKKKKKKKKFFKKKKKKKKKKKKKKKKKKKKKKKKKKKKKKKKKKKKKKKKKKKKKKKKKKKKKKKKKKKFKKKKKKKKKKKKKKKKKKKKKKKKKAKKKKKKKKKKKKKKFKKKKKK7AK<FKKKF\tNM:i:28\tMD:Z:2C0C1C4C1C4C6C4C2C1C0C6T5A1C2C0C1C13C0C4C11C8C2C11C11C11C0C1C0\tXM:Z:..hh......h.x....x......x....x..h.hh..............h..hh.x.............hh................h........h..h.Z.........h...........x.......Z...hh.h\tXR:Z:CT\tXG:Z:CT\n",
            "SRR3824222.42_42/1\t147\tchr11\t8735603\t0\t140M\t=\t8735518\t-225\tTGTTATTAGTAATATTACGATTTGTGGTTAAAATAGGAGTTGGAAGTCGTTTTTTTTTATTTTTGTTATTTTTATAGTTTGAGGAATTAAGGATATTTTTTAGTAATAGTAAGGGTGAAAAGTTAGAGGTTATTTAAGGG\t<FAKKKKKKKKKAKKKKKKFKKKKKKFFAAFAFAKKKKKKFKKKKKKKKFKKKKKKKFKKKKKKKKKKKKKKKKKKKKKKKKKKKKFKKKKKKKKKFKKKFKKKKKKKKKKKKKKKKKKKKKKKKKKKKKKKKKKKKKKK\tNM:i:31\tMD:Z:3C8C2C11C11C11C0C1C2C2C0C0C8C0C1C2C0C7C6C1C0C2G0C5C2C12C0C5C0C1G0C6\tXM:Z:...h........h..h.Z.........h...........x.......Z...hh.h..h..hhx........hh.x..hx.......h......h.hh...x.....x..h............hx.....hx..h......\tXR:Z:GA\tXG:Z:CT\n",
            "SRR3824222.52_52/1\t99\tchr11\t58717111\t23\t140M\t=\t58717131\t160\tTAAAAAATATTTACGGTTTTGTTTTTTTTTTTTAAAAGATATTAAGAGTTATAGGTGTGGGTCGTGATAGTATTTACGGGAGGAATCGGGTTAATGTTTATTTAAGTTAAGGTTAAAAGTTTATTTATTTATGGATGAGA\tKKKKKKKKKKKKKKKKKKKKKKKKKKKKKKKKKKKKKKKKKKKKKKKKAFKKKKKKKKKKKKKFKKKKKKKKKKKKKKKKFKKKKKKKKK,FKKKKKKKKKKKKKKKKKKKKKKKKKKKFKKFKKKKKKKKKKKKKKKFK\tNM:i:39\tMD:Z:0C0C8C2A2C1C2C0C1C0C0C0C2C0C0C8C0C5C0C1C18C1C0C0C14A1C5C0C1C0C0C3C0C11C0C0C1C1C2C11\tXM:Z:h.........h.....h.x..hh.hhhh..hhh........hh.....hh.x..........Z.......h.hhh.Z.........Z....h.....hh.hhh...hh...........hhh.h.h..h...........\tXR:Z:CT\tXG:Z:CT\n",
            "SRR3824222.52_52/1\t147\tchr11\t58717131\t23\t140M\t=\t58717111\t-160\tGTTTTTTTTTTTTAAAAGATATTAAGAGTTATAGGTGTGGGTCGTGATAGTATTTACGGGAGGAATCGGGTTAATGTTTATTTAAGTTAAGGTTAAAAGTTTATTTATTTATGGATGAGAAAATTATTTGATTATTTTAG\t<7<,F<FFKF<<AAAKKF<<KFA,FFFKKFA,KKKKFFKFKFKKKKFKFKFAAAFAAKKKKKKKF,FKKKFKKKKKKKKKKKKKKKKKKKKKKKKKKKKKKKKKKKKKKKKKKKKKKKKKKKKKKKKKKKKKKKKKKFFF\tNM:i:38\tMD:Z:1C0C1C0C0C0C2C0C0C8C0C5C0C1C18C1C0C0C14A1C5C0C1C0C0C3C0C11C0C0C1C1C2C15C7C1C0C1C2\tXM:Z:.hh.hhhh..hhh........hh.....hh.x..........Z.......h.hhh.Z.........Z....h.....hh.hhh...hh...........hhh.h.h..h...............h.......h.hh.x..\tXR:Z:GA\tXG:Z:CT\n",
            "SRR3824222.56_56/1\t99\tchr11\t87478638\t0\t140M\t=\t87478712\t212\tATAGTACGGTTTTTAATTTCTTTTTTTTTTATTAATTAAGTTTAATAAGGTAATGTTAAATTGAGGTGATTAAATGATTTTTTTATTCGTAGATGAGTGGGTTTTTAATTTTGGTTTGGGTGGACATTGATTTGATTTTT\tKKKKKKKKKKKKKKKKKKKKKKKKKKKKKKKKKKKKKKKKKKKKKKKKKKKKKKKKKKKKKKKKKKKKKKKKKKKKKKKKKKKKKKKKKFKKKKKKKAKKKK7<FKKKKKKKKKFAKKKKAKKFFKKKFFKKKFFAA,A7\tNM:i:32\tMD:Z:1C8C1C0C2C0C3C1C0C0C0C0C0C21C2C1C1T2C9C12C2C0T13C1A4C0C4C15C0C0C4C0C1\tXM:Z:.x....Z...h.hh..hh.H.h.hhhhhh.....................h..z.h....x.........h............h..x..............h......hh....h.........H.....hxz....hh.\tXR:Z:CT\tXG:Z:CT\n",
            "SRR3824222.56_56/1\t147\tchr11\t87478712\t0\t138M\t=\t87478638\t-212\tTGATTTTTTTATTCGTAGATGAGTGGGTTTTTAATTTTGGTTTGGGTGGACATTGATTTGATTTTTTTTGTGGGTGTTGTTACGATTTATATTTGTGGTTTTTGGTATTTTTTGGGGAGGGGAGGGAGAGTTATAGAT\tAFAFKFAKKKKKFKKAKKKKKKFKAAKF<FA<AFFKKKKKKAKKKKKKKKKKKKKKKKKKKKKKKKKKKFAFKF7FKKKKKKKKK7KKKKKKKKKKKKKKKKKKKKKKKKKKKKKKKFF<FKA,F,KKKKKKKKKKKF\tNM:i:31\tMD:Z:9C2C0T13C1A4C0C4C15C0C0C4C0C1C0C0C7C3C4C0C0C1C1C0C5C1C7C16C4C0C0T5\tXM:Z:.........h..x..............h......hh....h.........H.....hxz....hh.hxz.......x...h.Z..hhh.h.hx.....h.h.......h.....................hh......\tXR:Z:GA\tXG:Z:CT\n",
            "SRR3824222.65_65/1\t83\tchr11\t28372568\t0\t140M\t=\t28372555\t-153\tCAACTCAATATTATTCTTAATAAAATATATTTCAAATTTATTCAATCAAACTTAACCAAAATTCCAACGTCCTACTTAAAATTCAACTAAAAAATTACCTATTCAACACAAATTAACATTATAAAATCAAAACTTTCTAC\tKKFKKKKKKKKKKKKKKKKKKKKKKKKKKKKKKKKKKKKKKKKKKKKKKKKKKKKKKKKKKKKKKKFKKKKKKKKKKKKKKKKKKKKKKKKKKKKKKKKKKKKKKKKKKKKKKKKKKKKKKKKKKKKKKKKKKKKKKKKK\tNM:i:23\tMD:Z:7G1G14G1G12G4G9G3G0G0G8C19G0G2G11G3T5G9G3G1G1C1A2G1\tXM:Z:.......x.h..............h.h............h....x.........h...xhh.......Z....................hh..h...........x.........h.........h...x.h......x.\tXR:Z:CT\tXG:Z:GA\n",
            "SRR3824222.65_65/1\t163\tchr11\t28372555\t0\t140M\t=\t28372568\t153\tTACGAAAAAATATCAACTCAATATTATTCTTAATAAAATATATTTCAAATTTATTCAATCAAACTTAACCAAAATTCCAACGTCCTACTTAAAATTCAACTAAAAAATTACCTATTCAACACAAATTAACATTATAAAAT\tKKKKKKKKKKKKKKKKKKKKKKKKKKKKKKKKKKKKKKKKKKKKKKKKKKKKKKKKKKKKKKKKKKKKKKKKKKKKKKKKKKFKKKKKKKKKKKKKKKKKKKKKKKKKKKKKKKKKKFFKKKFKKKFKKKKKKKKKKKKA\tNM:i:23\tMD:Z:1G0T1G1G0G12G1G14G1G12G4G9G3G0G0G8C19G0G2G11G3T5G9G1\tXM:Z:.h.Hh.hh............x.h..............h.h............h....x.........h...xhh.......Z....................hh..h...........x.........h.........h.\tXR:Z:GA\tXG:Z:GA\n"
          ]
        }
      ]
    },
    {
      "cell_type": "code",
      "source": [
        "! samtools view /content/drive/MyDrive/bioinfHW1/ICM/SRR5836475_1_bismark_bt2_pe.bam | head"
      ],
      "metadata": {
        "colab": {
          "base_uri": "https://localhost:8080/"
        },
        "id": "1UTuPqxEoWw2",
        "outputId": "25b5fbec-3877-468f-be7c-c93607fd6dd2"
      },
      "execution_count": 11,
      "outputs": [
        {
          "output_type": "stream",
          "name": "stdout",
          "text": [
            "SRR5836475.1_1/1\t83\tchr11\t27610910\t0\t140M\t=\t27610897\t-153\tTTTACAAAAAATTTAAAACAAATAAAATAAAAACAAAATAAACCTTTAATAACCTTAAAAAAAATAACTACCCCTCTTTTATTTTAAAAAACCAATTCTTTAAAATACAATAAACACATTCAACTATTCCTTATCCCATA\tFFKKAKAKKKKKKKKKKKKKKKKKKFKKKKKKKKKFAKKKKKKKKKKKKKKKKKKKKKKKKKKKKKKKKKKKKKKKKKKKKKKKKKKKKKKKKKKKKKKKKKKKKKKKKKKKKKKKKKKKKKKKKKKKKKKKKKKKKKKK\tNM:i:39\tMD:Z:1G1G3G7G0G8G0G1G2G0G3G0G1G0G0G5G0G1G5G0G0G0G0G1T3G2G10G1C5G1G12G0G1G1G2G1G3G14G6G0\tXM:Z:...h...h.......hh........hh.h..hh...hh.hhh.....hh.h.....hhhhh.....h..x..........h.......h.h............hh.h.z..h.h...z..............h......h\tXR:Z:CT\tXG:Z:GA\n",
            "SRR5836475.1_1/1\t163\tchr11\t27610897\t0\t140M\t=\t27610910\t153\tCCTTTAATATCAATTTACAAAAAATTTAAAACAAATAAAATAAAAACAAAATAAACCTTTAATAACCTTAAAAAAAATAACTACCCCTCTTTTATTTTAAAAAACCAATTCTTTAAAATACAATAAACACATTCAACTAT\tFFKKKKKKKKKKKKKKKKKKKKKKKKKKKKKKKKKKKKKKKKKKKKKKKKKKKKKKKKKKKKKKKKKKKKKKKKKKKFKKKKKKKKKKKFKKKKKKKKKKKKAKKKKFKKKFFKKKKKFKKAAKKKAFAAFKKKF<AKKK\tNM:i:41\tMD:Z:2C2G5G0G1G1G3G7G0G8G0G1G2G0G3G0G1G0G0G5G0G1G5G0G0G0G0G1T3G2G10G1C5G1G12G0G1G1G2G1G3G9\tXM:Z:.....h.....zx...h...h.......hh........hh.h..hh...hh.hhh.....hh.h.....hhhhh.....h..x..........h.......h.h............hh.h.z..h.h...z.........\tXR:Z:GA\tXG:Z:GA\n",
            "SRR5836475.28_28/1\t83\tchr11\t58716819\t0\t140M\t=\t58716800\t-159\tAATAACAAAAATAAAAAAAAACAACTTCCAACTCCTATTTTAACCACAAATCATAATATTACTAATAACATAATTCTTACCTAAACCTTACTAAATCTAAAATTAACAATTCTCCTTTAAAAACTACACAATACTCAAAA\tKKKKKKKKKKKFKKKKKKKKKFAKKKKKKFAKKKKKKKKKKKKKKKKKKKKKKKKKKKKKKKKKKKKKKKKKKKKKKKKKKKKKKKKKKKKKKKKKKKKKKKKKKKKKKKKKKKKKKKKKKKKKKKKKKKKKKKKKKKKK\tNM:i:28\tMD:Z:7G1G2G1G0G1G0G3G7G11G11G0G1G8G11G0T3G0G4G8G2G2G14G0G1G2G4G6G2\tXM:Z:.......x.h..h.hh.hh...z.......x...........h...........hh.h........h...........h....hh....h........x..h..h..............hh.h..x....x......x..\tXR:Z:CT\tXG:Z:GA\n",
            "SRR5836475.28_28/1\t163\tchr11\t58716800\t0\t140M\t=\t58716819\t159\tAAGATCCTCAAACTATAAAAATAACAAAAATAAAAAAAAACAACTTCCAACTCCTATTTTAACCACAAATCATAATATTACTAATAACATAATTCTTACCTAAACCTTACTAAATCTAAAATTAACAATTCTCCTTTAAA\tKKKFKKKKKKKKKKKKKKKKKKKKKKKKKKKKKKKKKKKKKKKKKKKKKKFKKKKKKKKKKKKKKKKKKKKKKKKKKKKKKKKKKKKKKKFKKKFFKAKKK7FFFKKKKKKFAA<FKAFKKKFKFF<AAFKKKKKKKFA<\tNM:i:32\tMD:Z:0T2T6G0G2G1G0G0G7G1G2G1G0G1G0G3G7G11G11G0G1G8G11G0T3G0G4G8G2G2G14G0G0\tXM:Z:..H.......xh..x.hhh.......x.h..h.hh.hh...z.......x...........h...........hh.h........h...........h....hh....h........x..h..h..............hh\tXR:Z:GA\tXG:Z:GA\n",
            "SRR5836475.64_64/1\t99\tchr11\t43166397\t0\t140M\t=\t43166396\t141\tATAAAGTTTGTAAGATTAATGGGTTTTTTTTTTTATTGATGGTTGATTAGGTTATTTTTTGATATATATGTAGTTAGAGATTTGAGTTTTGGGGGGTATTGGTTAGTTTATAATGTTGTTTTATTTATAGGGTTGTAGAT\tKKKKKKFKKKKKKKKKKKKKKKKFKKKKKKKKKKKKKKKKKKKKKKKKKKKKKKKKKKKKKKFKKKKKAKKKKKKKKKKKKKKKKKFKKKKKKKKK,<FFKKFKFFKFKKKKKFFKFFFKKKFKKKAKKFKAF7,7AAFK\tNM:i:33\tMD:Z:10C1C2C0C6C0C1C1C3C0C1C6C0C2C4C0C2C2C5C5C2C6C0A4C1C9C9C3T7C0C1C0C10C4\tXM:Z:..........h....hh......hh.h.h...hh.x......xz..h....hh..h..x.....h.....x..h......h.....h.x.........x.........h...........hh.hh..........x....\tXR:Z:CT\tXG:Z:CT\n",
            "SRR5836475.64_64/1\t147\tchr11\t43166396\t0\t140M\t=\t43166397\t-141\tTATAAAGTTTGTAAGATTAATGGGTTTTTTTTTTTATTGATGGTTGATTAGGTTATTTTTTGATATATATGTAGTTAGAGATTTGAGTTTTGGGGGGTATTGGTTAGTTTATAATGTTGTTTTATTTATAGGGTTGTAGA\tKKAAFFKF<<A7FKKKKKKKFAKKKKFKKKKKKKKKKKKKKKKKFKKKKKKKKKKKKKKKKKKKKKKKKKKKKKKKKKKKKKKKKKKKKKKKKKKKKKKKKKKKKKKKKKKKKKKKKKKKKKKKKKKKKKKKKKKKKKKK\tNM:i:33\tMD:Z:11C1C2C0C6C0C1C1C3C0C1C6C0C2C4C0C2C2C5C5C2C6C0A4C1C9C9C3T7C0C1C0C10C3\tXM:Z:...........h....hh......hh.h.h...hh.x......xz..h....hh..h..x.....h.....x..h......h.....h.x.........x.........h...........hh.hh..........x...\tXR:Z:GA\tXG:Z:CT\n",
            "SRR5836475.86_86/1\t83\tchr11\t71167245\t0\t140M\t=\t71167203\t-182\tCTTCTTACCAATTAAAACATCTTCTAAATATATACCCAAAAAAAATATTACTAAATCCTCCAATAATACTATATCCAATTTTCTAAAAAAATACCAAAATAATTTAAAAAATAATTATACAAACTTACAATCCCACCAAC\t<FAAA7KKKKKKFA,FAF<FAFKAKKKKKKKFKFFAFKKKKKKKKKKKKFFKKKKKKKKKKKKKKFKKKKKKKKKFKKKKKKKKKKKKKKKKKKKKKKKKKKKKKKKKKKKKKKKKKKKKKKKKKKKKKKKKKFAKKKKK\tNM:i:36\tMD:Z:10G2G0G0G0G8G0G6G4G0G1G1G0G4G2G0G8G2G6G11G1G0G2C1G3G1C1G4C0C1G1G1G0G2G5G3G13\tXM:Z:..........x..hhhh........xh......h....xh.h.hh....h..xh........x..h......h...........x.hh....x...x...x.......x.h.hh..h.....h...h.............\tXR:Z:CT\tXG:Z:GA\n",
            "SRR5836475.86_86/1\t163\tchr11\t71167203\t0\t140M\t=\t71167245\t182\tTATTATAAATAAAACTACTATAAACATAATTAAACATATATCCTTCTTACCAATTAAAACATCTTCTAAATATATACCCAAAAAAAATATTACTAAATCCTCCAATAATACTATATCCAATTTTCTAAAAAAATACCACA\tKKKKKKKKKKKKKKKKKKKKKKKKKKKKKKKKKKKKKKKKKKAKKKKKKKKKKKKKKKKKKKKKKKKKKKKKKKFKFFKKKKFKKKFFFFKFKKFF<FF<FFKA<A7AF,AA77AFFF,A<<<AF<A7,<<AKA7<7,,7\tNM:i:36\tMD:Z:9A2G0G2G4G6G1G0G1G3G1G12G2G0G0G0G8G0G6G4G0G1G1G0G4G2G0G8G2G6G11G1G0G2C1G3G1\tXM:Z:............hh..x....h......h..h.h...h.h............x..hhhh........xh......h....xh.h.hh....h..xh........x..h......h...........x.hh....x.....\tXR:Z:GA\tXG:Z:GA\n",
            "SRR5836475.89_89/1\t99\tchr11\t7397034\t0\t140M\t=\t7397045\t151\tTTGTTGTTATTTGGAATTTTGATTTTAGTTATTTTGATTGGTGTGTGATGGAATTTTAGGGTTGTTTTGATTTGTATTTTTTTGATGATTAAGGATGTTGAATATTTTTTTAGGTGTTTTTTAGATATTTGGTATTTTTT\tKKKKKKKKKKKKKKKKKKKKKKKKKKKKAFKKKKKKKKFKKKKKKKKKKKKFKKKKKKKKF7FFAFKKKKKKFF<KKKKKKKKKKKKK,KKAKKKKKKKKKKKKKKKKKKKKKKKKAAKKKKKKFKKKKKKKKKKKKKKK\tNM:i:30\tMD:Z:0C2C3C1C0C2A1T7C4C0C3C3C7A8C1C17C4C0C0C15C4C7C8C1C2C0C3C6C0C1C0\tXM:Z:x..x...h.hx............h....hh...x...x................h.x.................h....hhx...............x....h.......x........h.x...h...z......hh.x\tXR:Z:CT\tXG:Z:CT\n",
            "SRR5836475.89_89/1\t147\tchr11\t7397045\t0\t140M\t=\t7397034\t-151\tTGGAATTTTGATTTTAGTTATTTTGATTGGTGTGTGATGGAATTTTAGGGTTGTTTTGATTTGTATTTTTTTGATGATTAAGGATGTTGAATATTTTTTTAGGTGTTTTTTAGATATTTGGTATTTTTTAGGTGAGAACC\tF<AAFKA7KF<KKA<7A<,AFKFKKKKFKKAKKKFKKKKKKK<FAKKFFKKKFKKAAFAFAKFF<7KF7KKKKKKKKKKKKKKKKKKAKAKK<KFFKKKKKAKFFKKKKKKKF,KKFKKKKKKFFKKF,<AFAA,F,F,,\tNM:i:27\tMD:Z:2A1T7C4C0C3C3C7A8C1C17C4C0C0C15C4C7C8C1C2C0C3C6C0C1C9T0T0\tXM:Z:............h....hh...x...x................h.x.................h....hhx...............x....h.......x........h.x...h...z......hh.x...........\tXR:Z:GA\tXG:Z:CT\n"
          ]
        }
      ]
    },
    {
      "cell_type": "code",
      "execution_count": 12,
      "metadata": {
        "colab": {
          "base_uri": "https://localhost:8080/"
        },
        "id": "SrGGCxZQ2Ao3",
        "outputId": "67dc04c1-8539-4847-9f43-8202d2eabec5"
      },
      "outputs": [
        {
          "output_type": "stream",
          "name": "stdout",
          "text": [
            "[bam_sort_core] merging from 5 files...\n",
            "[bam_sort_core] merging from 11 files...\n",
            "[bam_sort_core] merging from 7 files...\n"
          ]
        }
      ],
      "source": [
        "! samtools sort /content/drive/MyDrive/bioinfHW1/cell8/SRR5836473_1_bismark_bt2_pe.bam -o /content/sorted_8cell.bam\n",
        "! samtools sort /content/drive/MyDrive/bioinfHW1/epiblast/SRR3824222_1_bismark_bt2_pe.bam -o /content/sorted_epiblast.bam\n",
        "! samtools sort /content/drive/MyDrive/bioinfHW1/ICM/SRR5836475_1_bismark_bt2_pe.bam -o /content/sorted_icm.bam"
      ]
    },
    {
      "cell_type": "code",
      "execution_count": 13,
      "metadata": {
        "id": "GErvoOM-3Axj"
      },
      "outputs": [],
      "source": [
        "! samtools index  /content/sorted_8cell.bam\n",
        "! samtools index  /content/sorted_epiblast.bam\n",
        "! samtools index  /content/sorted_icm.bam"
      ]
    },
    {
      "cell_type": "markdown",
      "metadata": {
        "id": "Lw--6KavBoXp"
      },
      "source": [
        "Сколько ридов закартировалось на участки 11347700-11367700; 40185800-40195800?"
      ]
    },
    {
      "cell_type": "code",
      "execution_count": 16,
      "metadata": {
        "colab": {
          "base_uri": "https://localhost:8080/"
        },
        "id": "b-ZhJMlax75S",
        "outputId": "81cfc7e4-3cde-4427-876e-6cb8cd492858"
      },
      "outputs": [
        {
          "output_type": "stream",
          "name": "stdout",
          "text": [
            "1090\n",
            "2328\n",
            "1456\n"
          ]
        }
      ],
      "source": [
        "! samtools view /content/sorted_8cell.bam chr11:11347700-11367700 | cut -f1 | sort -u | wc -l\n",
        "! samtools view /content/sorted_epiblast.bam chr11:11347700-11367700 | cut -f1 | sort -u | wc -l\n",
        "! samtools view /content/sorted_icm.bam chr11:11347700-11367700 | cut -f1 | sort -u | wc -l"
      ]
    },
    {
      "cell_type": "code",
      "source": [
        "! samtools view /content/sorted_8cell.bam chr11:40185800-40195800 | cut -f1 | sort -u | wc -l\n",
        "! samtools view /content/sorted_epiblast.bam chr11:40185800-40195800 | cut -f1 | sort -u | wc -l\n",
        "! samtools view /content/sorted_icm.bam chr11:40185800-40195800 | cut -f1 | sort -u | wc -l"
      ],
      "metadata": {
        "colab": {
          "base_uri": "https://localhost:8080/"
        },
        "id": "aRIY3h_KuIv3",
        "outputId": "56feec91-80c2-402b-c465-a421d16a986e"
      },
      "execution_count": 17,
      "outputs": [
        {
          "output_type": "stream",
          "name": "stdout",
          "text": [
            "464\n",
            "1062\n",
            "630\n"
          ]
        }
      ]
    },
    {
      "cell_type": "markdown",
      "metadata": {
        "id": "CliRCSUQTmV-"
      },
      "source": [
        "### Дедупликация для всех образцов одновременно (Бонус 1)"
      ]
    },
    {
      "cell_type": "code",
      "source": [
        "# Для одновременной дедупликации (обрабатываются файлы с названиями *_pe.bam)\n",
        "! ls /content/drive/MyDrive/bioinfHW1/cell8/SRR5836473_1_bismark_bt2_pe.bam /content/drive/MyDrive/bioinfHW1/epiblast/SRR3824222_1_bismark_bt2_pe.bam /content/drive/MyDrive/bioinfHW1/ICM/SRR5836475_1_bismark_bt2_pe.bam  | xargs -P 3 -tI{} deduplicate_bismark  --bam  --paired  -o {}.deduplicated {}"
      ],
      "metadata": {
        "colab": {
          "base_uri": "https://localhost:8080/"
        },
        "id": "UzzyY6cSvkDS",
        "outputId": "726b43f9-80fd-4023-93b4-229b3bf30b32"
      },
      "execution_count": 7,
      "outputs": [
        {
          "output_type": "stream",
          "name": "stdout",
          "text": [
            "deduplicate_bismark --bam --paired -o /content/drive/MyDrive/bioinfHW1/cell8/SRR5836473_1_bismark_bt2_pe.bam.deduplicated /content/drive/MyDrive/bioinfHW1/cell8/SRR5836473_1_bismark_bt2_pe.bam \n",
            "deduplicate_bismark --bam --paired -o /content/drive/MyDrive/bioinfHW1/epiblast/SRR3824222_1_bismark_bt2_pe.bam.deduplicated /content/drive/MyDrive/bioinfHW1/epiblast/SRR3824222_1_bismark_bt2_pe.bam \n",
            "deduplicate_bismark --bam --paired -o /content/drive/MyDrive/bioinfHW1/ICM/SRR5836475_1_bismark_bt2_pe.bam.deduplicated /content/drive/MyDrive/bioinfHW1/ICM/SRR5836475_1_bismark_bt2_pe.bam \n",
            "Output filename was given as: /content/drive/MyDrive/bioinfHW1/epiblast/SRR3824222_1_bismark_bt2_pe.bam.deduplicated\n",
            "Processing paired-end Bismark output file(s) (SAM format):\n",
            "/content/drive/MyDrive/bioinfHW1/epiblast/SRR3824222_1_bismark_bt2_pe.bam\n",
            "\n",
            "\n",
            "If there are several alignments to a single position in the genome the first alignment will be chosen. Since the input files are not in any way sorted this is a near-enough random selection of reads.\n",
            "\n",
            "Checking file >>/content/drive/MyDrive/bioinfHW1/epiblast/SRR3824222_1_bismark_bt2_pe.bam<< for signs of file truncation...\n",
            "Output filename was given as: /content/drive/MyDrive/bioinfHW1/cell8/SRR5836473_1_bismark_bt2_pe.bam.deduplicated\n",
            "Processing paired-end Bismark output file(s) (SAM format):\n",
            "/content/drive/MyDrive/bioinfHW1/cell8/SRR5836473_1_bismark_bt2_pe.bam\n",
            "\n",
            "Output filename was given as: /content/drive/MyDrive/bioinfHW1/ICM/SRR5836475_1_bismark_bt2_pe.bam.deduplicated\n",
            "Processing paired-end Bismark output file(s) (SAM format):\n",
            "/content/drive/MyDrive/bioinfHW1/ICM/SRR5836475_1_bismark_bt2_pe.bam\n",
            "\n",
            "\n",
            "If there are several alignments to a single position in the genome the first alignment will be chosen. Since the input files are not in any way sorted this is a near-enough random selection of reads.\n",
            "\n",
            "\n",
            "If there are several alignments to a single position in the genome the first alignment will be chosen. Since the input files are not in any way sorted this is a near-enough random selection of reads.\n",
            "\n",
            "Checking file >>/content/drive/MyDrive/bioinfHW1/cell8/SRR5836473_1_bismark_bt2_pe.bam<< for signs of file truncation...\n",
            "Checking file >>/content/drive/MyDrive/bioinfHW1/ICM/SRR5836475_1_bismark_bt2_pe.bam<< for signs of file truncation...\n",
            "\n",
            "\n",
            "\n",
            "\n",
            "Now testing Bismark result file /content/drive/MyDrive/bioinfHW1/ICM/SRR5836475_1_bismark_bt2_pe.bam for positional sorting (which would be bad...)\t\n",
            "\n",
            "Now testing Bismark result file /content/drive/MyDrive/bioinfHW1/epiblast/SRR3824222_1_bismark_bt2_pe.bam for positional sorting (which would be bad...)\t\n",
            "\n",
            "\n",
            "Now testing Bismark result file /content/drive/MyDrive/bioinfHW1/cell8/SRR5836473_1_bismark_bt2_pe.bam for positional sorting (which would be bad...)\t...passed!\n",
            "Output file is: SRR5836475_1_bismark_bt2_pe.bam.deduplicated.deduplicated.bam\n",
            "\n",
            "skipping header line:\t@HD\tVN:1.0\tSO:unsorted\n",
            "skipping header line:\t@SQ\tSN:chr11\tLN:122082543\n",
            "skipping header line:\t@PG\tID:Bismark\tVN:v0.23.1dev\tCL:\"bismark --gzip mouse_chr -1 data/SRR5836475_1.fastq.gz -2 data/SRR5836475_2.fastq.gz -o ICM/\"\n",
            "...passed!\n",
            "Output file is: SRR3824222_1_bismark_bt2_pe.bam.deduplicated.deduplicated.bam\n",
            "\n",
            "skipping header line:\t@HD\tVN:1.0\tSO:unsorted\n",
            "skipping header line:\t@SQ\tSN:chr11\tLN:122082543\n",
            "skipping header line:\t@PG\tID:Bismark\tVN:v0.23.1dev\tCL:\"bismark -p 2 --gzip mouse_chr -1 data/SRR3824222_1.fastq.gz -2 data/SRR3824222_2.fastq.gz -o epiblast/\"\n",
            "...passed!\n",
            "Output file is: SRR5836473_1_bismark_bt2_pe.bam.deduplicated.deduplicated.bam\n",
            "\n",
            "skipping header line:\t@HD\tVN:1.0\tSO:unsorted\n",
            "skipping header line:\t@SQ\tSN:chr11\tLN:122082543\n",
            "skipping header line:\t@PG\tID:Bismark\tVN:v0.23.1dev\tCL:\"bismark -p 2 --gzip mouse_chr -1 data/SRR5836473_1.fastq.gz -2 data/SRR5836473_2.fastq.gz -o cell8/\"\n",
            "\n",
            "Total number of alignments analysed in /content/drive/MyDrive/bioinfHW1/cell8/SRR5836473_1_bismark_bt2_pe.bam:\t2850231\n",
            "Total number duplicated alignments removed:\t521904 (18.31%)\n",
            "Duplicated alignments were found at:\t230432 different position(s)\n",
            "\n",
            "Total count of deduplicated leftover sequences: 2328327 (81.69% of total)\n",
            "\n",
            "\n",
            "Total number of alignments analysed in /content/drive/MyDrive/bioinfHW1/ICM/SRR5836475_1_bismark_bt2_pe.bam:\t4159998\n",
            "Total number duplicated alignments removed:\t377882 (9.08%)\n",
            "Duplicated alignments were found at:\t229833 different position(s)\n",
            "\n",
            "Total count of deduplicated leftover sequences: 3782116 (90.92% of total)\n",
            "\n",
            "\n",
            "Total number of alignments analysed in /content/drive/MyDrive/bioinfHW1/epiblast/SRR3824222_1_bismark_bt2_pe.bam:\t7039016\n",
            "Total number duplicated alignments removed:\t205258 (2.92%)\n",
            "Duplicated alignments were found at:\t164796 different position(s)\n",
            "\n",
            "Total count of deduplicated leftover sequences: 6833758 (97.08% of total)\n",
            "\n"
          ]
        }
      ]
    },
    {
      "cell_type": "code",
      "execution_count": 8,
      "metadata": {
        "colab": {
          "base_uri": "https://localhost:8080/"
        },
        "id": "OkrrqUQPXCCI",
        "outputId": "398aedbb-df4d-4911-a194-32cb73cd83ca"
      },
      "outputs": [
        {
          "output_type": "stream",
          "name": "stdout",
          "text": [
            "condacolab_install.log\n",
            "drive\n",
            "sample_data\n",
            "SRR3824222_1_bismark_bt2_pe.bam.deduplicated.deduplicated.bam\n",
            "SRR3824222_1_bismark_bt2_pe.deduplication_report.txt\n",
            "SRR5836473_1_bismark_bt2_pe.bam.deduplicated.deduplicated.bam\n",
            "SRR5836473_1_bismark_bt2_pe.deduplication_report.txt\n",
            "SRR5836475_1_bismark_bt2_pe.bam.deduplicated.deduplicated.bam\n",
            "SRR5836475_1_bismark_bt2_pe.deduplication_report.txt\n"
          ]
        }
      ],
      "source": [
        "! ls"
      ]
    },
    {
      "cell_type": "code",
      "execution_count": 9,
      "metadata": {
        "colab": {
          "base_uri": "https://localhost:8080/"
        },
        "id": "4NZ1s3i5bUUq",
        "outputId": "daa5df6e-89ea-42dd-c6af-b00a83a063e2"
      },
      "outputs": [
        {
          "output_type": "stream",
          "name": "stdout",
          "text": [
            "Archive:  /content/drive/MyDrive/bioinfHW1/mouse_chr.zip\n",
            "   creating: mouse_chr/\n",
            "   creating: mouse_chr/Bisulfite_Genome/\n",
            "   creating: mouse_chr/Bisulfite_Genome/CT_conversion/\n",
            "  inflating: mouse_chr/Bisulfite_Genome/CT_conversion/genome_mfa.CT_conversion.fa  \n",
            "  inflating: mouse_chr/Bisulfite_Genome/CT_conversion/BS_CT.4.bt2  \n",
            "  inflating: mouse_chr/Bisulfite_Genome/CT_conversion/BS_CT.1.bt2  \n",
            "  inflating: mouse_chr/Bisulfite_Genome/CT_conversion/BS_CT.3.bt2  \n",
            "  inflating: mouse_chr/Bisulfite_Genome/CT_conversion/BS_CT.2.bt2  \n",
            "  inflating: mouse_chr/Bisulfite_Genome/CT_conversion/BS_CT.rev.2.bt2  \n",
            "  inflating: mouse_chr/Bisulfite_Genome/CT_conversion/BS_CT.rev.1.bt2  \n",
            "   creating: mouse_chr/Bisulfite_Genome/GA_conversion/\n",
            "  inflating: mouse_chr/Bisulfite_Genome/GA_conversion/BS_GA.rev.1.bt2  \n",
            "  inflating: mouse_chr/Bisulfite_Genome/GA_conversion/BS_GA.rev.2.bt2  \n",
            "  inflating: mouse_chr/Bisulfite_Genome/GA_conversion/genome_mfa.GA_conversion.fa  \n",
            "  inflating: mouse_chr/Bisulfite_Genome/GA_conversion/BS_GA.4.bt2  \n",
            "  inflating: mouse_chr/Bisulfite_Genome/GA_conversion/BS_GA.1.bt2  \n",
            "  inflating: mouse_chr/Bisulfite_Genome/GA_conversion/BS_GA.2.bt2  \n",
            "  inflating: mouse_chr/Bisulfite_Genome/GA_conversion/BS_GA.3.bt2  \n",
            "  inflating: mouse_chr/chr11.fa      \n"
          ]
        }
      ],
      "source": [
        "! unzip /content/drive/MyDrive/bioinfHW1/mouse_chr.zip"
      ]
    },
    {
      "cell_type": "markdown",
      "metadata": {
        "id": "sf_yqXE71QjG"
      },
      "source": [
        "Время работы: ±30 мин"
      ]
    },
    {
      "cell_type": "markdown",
      "source": [
        "### Коллинг метилирования цитозинов"
      ],
      "metadata": {
        "id": "LKBD3cwo1wLx"
      }
    },
    {
      "cell_type": "code",
      "execution_count": 11,
      "metadata": {
        "colab": {
          "base_uri": "https://localhost:8080/"
        },
        "id": "4c5BEvKpDw5K",
        "outputId": "c4a94a7f-384b-4d66-ee50-f1e1b8c9eb52"
      },
      "outputs": [
        {
          "output_type": "stream",
          "name": "stdout",
          "text": [
            "\n",
            " *** Bismark methylation extractor version v0.23.1 ***\n",
            "\n",
            "Trying to determine the type of mapping from the SAM header line of file /content/drive/MyDrive/SRR5836473_1_bismark_bt2_pe.bam.deduplicated.deduplicated.bam\n",
            "Treating file(s) as paired-end data (as extracted from @PG line)\n",
            "\n",
            "Setting option '--no_overlap' since this is (normally) the right thing to do for paired-end data\n",
            "\n",
            "\n",
            "Setting core usage to single-threaded (default). Consider using --multicore <int> to speed up the extraction process.\n",
            "\n",
            "Summarising Bismark methylation extractor parameters:\n",
            "===============================================================\n",
            "Bismark paired-end SAM format specified (default)\n",
            "Number of cores to be used: 1\n",
            "Output will be written to the current directory ('/content')\n",
            "\n",
            "\n",
            "Summarising bedGraph parameters:\n",
            "===============================================================\n",
            "Generating additional output in bedGraph and coverage format\n",
            "bedGraph format:\t<Chromosome> <Start Position> <End Position> <Methylation Percentage>\n",
            "coverage format:\t<Chromosome> <Start Position> <End Position> <Methylation Percentage> <count methylated> <count non-methylated>\n",
            "\n",
            "Using a cutoff of 1 read(s) to report cytosine positions\n",
            "Reporting and sorting cytosine methylation information in CpG context only (default)\n",
            "The bedGraph UNIX sort command will use the following memory setting:\t'2G'. Temporary directory used for sorting is the output directory\n",
            "\n",
            "\n",
            "Summarising genome-wide cytosine methylation report parameters:\n",
            "===============================================================\n",
            "Generating comprehensive genome-wide cytosine report\n",
            "(output format: <Chromosome> <Position> <Strand> <count methylated> <count non-methylated>  <C-context>  <trinucleotide context> )\n",
            "Reporting cytosine methylation in CpG context only (default)\n",
            "Using 1-based genomic coordinates (default)\n",
            "Genome folder was specified as ./mouse_chr/\n",
            "\n",
            "Checking file >>/content/drive/MyDrive/SRR5836473_1_bismark_bt2_pe.bam.deduplicated.deduplicated.bam<< for signs of file truncation...\n",
            "\n",
            "\n",
            "Now testing Bismark result file >/content/drive/MyDrive/SRR5836473_1_bismark_bt2_pe.bam.deduplicated.deduplicated.bam< for positional sorting (which would be bad...)\t...passed!\n",
            "Writing result file containing methylation information for C in CpG context from the original top strand to CpG_OT_SRR5836473_1_bismark_bt2_pe.bam.deduplicated.deduplicated.txt.gz\n",
            "Writing result file containing methylation information for C in CpG context from the complementary to original top strand to CpG_CTOT_SRR5836473_1_bismark_bt2_pe.bam.deduplicated.deduplicated.txt.gz\n",
            "Writing result file containing methylation information for C in CpG context from the complementary to original bottom strand to CpG_CTOB_SRR5836473_1_bismark_bt2_pe.bam.deduplicated.deduplicated.txt.gz\n",
            "Writing result file containing methylation information for C in CpG context from the original bottom strand to CpG_OB_SRR5836473_1_bismark_bt2_pe.bam.deduplicated.deduplicated.txt.gz\n",
            "\n",
            "Writing result file containing methylation information for C in CHG context from the original top strand to CHG_OT_SRR5836473_1_bismark_bt2_pe.bam.deduplicated.deduplicated.txt.gz\n",
            "Writing result file containing methylation information for C in CHG context from the complementary to original top strand to CHG_CTOT_SRR5836473_1_bismark_bt2_pe.bam.deduplicated.deduplicated.txt.gz\n",
            "Writing result file containing methylation information for C in CHG context from the complementary to original bottom strand to CHG_CTOB_SRR5836473_1_bismark_bt2_pe.bam.deduplicated.deduplicated.txt.gz\n",
            "Writing result file containing methylation information for C in CHG context from the original bottom strand to CHG_OB_SRR5836473_1_bismark_bt2_pe.bam.deduplicated.deduplicated.txt.gz\n",
            "\n",
            "Writing result file containing methylation information for C in CHH context from the original top strand to CHH_OT_SRR5836473_1_bismark_bt2_pe.bam.deduplicated.deduplicated.txt.gz\n",
            "Writing result file containing methylation information for C in CHH context from the complementary to original top strand to CHH_CTOT_SRR5836473_1_bismark_bt2_pe.bam.deduplicated.deduplicated.txt.gz\n",
            "Writing result file containing methylation information for C in CHH context from the complementary to original bottom strand to CHH_CTOB_SRR5836473_1_bismark_bt2_pe.bam.deduplicated.deduplicated.txt.gz\n",
            "Writing result file containing methylation information for C in CHH context from the original bottom strand to CHH_OB_SRR5836473_1_bismark_bt2_pe.bam.deduplicated.deduplicated.txt.gz\n",
            "\n",
            "Now reading in Bismark result file /content/drive/MyDrive/SRR5836473_1_bismark_bt2_pe.bam.deduplicated.deduplicated.bam\n",
            "skipping SAM header line:\t@HD\tVN:1.0\tSO:unsorted\n",
            "skipping SAM header line:\t@SQ\tSN:chr11\tLN:122082543\n",
            "skipping SAM header line:\t@PG\tID:Bismark\tVN:v0.23.1dev\tCL:\"bismark -p 2 --gzip mouse_chr -1 data/SRR5836473_1.fastq.gz -2 data/SRR5836473_2.fastq.gz -o cell8/\"\n",
            "Processed lines: 500000\n",
            "Processed lines: 1000000\n",
            "Processed lines: 1500000\n",
            "Processed lines: 2000000\n",
            "\n",
            "Processed 2328327 lines in total\n",
            "Total number of methylation call strings processed: 4656654\n",
            "\n",
            "Final Cytosine Methylation Report\n",
            "=================================\n",
            "Total number of C's analysed:\t104224209\n",
            "\n",
            "Total methylated C's in CpG context:\t2101489\n",
            "Total methylated C's in CHG context:\t269204\n",
            "Total methylated C's in CHH context:\t944695\n",
            "\n",
            "Total C to T conversions in CpG context:\t2731177\n",
            "Total C to T conversions in CHG context:\t22964928\n",
            "Total C to T conversions in CHH context:\t75212716\n",
            "\n",
            "C methylated in CpG context:\t43.5%\n",
            "C methylated in CHG context:\t1.2%\n",
            "C methylated in CHH context:\t1.2%\n",
            "\n",
            "\n",
            "Determining maximum read lengths for M-Bias plots\n",
            "Maximum read length of Read 1: 140\n",
            "Maximum read length of Read 2: 140\n",
            "\n",
            "Perl module GD::Graph::lines is not installed, skipping drawing M-bias plots (only writing out M-bias plot table)\n",
            "Determining maximum read lengths for M-Bias plots\n",
            "Maximum read length of Read 1: 140\n",
            "Maximum read length of Read 2: 140\n",
            "\n",
            "Perl module GD::Graph::lines is not installed, skipping drawing M-bias plots (only writing out M-bias plot table)\n",
            "Deleting unused files ...\n",
            "\n",
            "CpG_OT_SRR5836473_1_bismark_bt2_pe.bam.deduplicated.deduplicated.txt.gz contains data ->\tkept\n",
            "CpG_CTOT_SRR5836473_1_bismark_bt2_pe.bam.deduplicated.deduplicated.txt.gz was empty ->\tdeleted\n",
            "CpG_CTOB_SRR5836473_1_bismark_bt2_pe.bam.deduplicated.deduplicated.txt.gz was empty ->\tdeleted\n",
            "CpG_OB_SRR5836473_1_bismark_bt2_pe.bam.deduplicated.deduplicated.txt.gz contains data ->\tkept\n",
            "CHG_OT_SRR5836473_1_bismark_bt2_pe.bam.deduplicated.deduplicated.txt.gz contains data ->\tkept\n",
            "CHG_CTOT_SRR5836473_1_bismark_bt2_pe.bam.deduplicated.deduplicated.txt.gz was empty ->\tdeleted\n",
            "CHG_CTOB_SRR5836473_1_bismark_bt2_pe.bam.deduplicated.deduplicated.txt.gz was empty ->\tdeleted\n",
            "CHG_OB_SRR5836473_1_bismark_bt2_pe.bam.deduplicated.deduplicated.txt.gz contains data ->\tkept\n",
            "CHH_OT_SRR5836473_1_bismark_bt2_pe.bam.deduplicated.deduplicated.txt.gz contains data ->\tkept\n",
            "CHH_CTOT_SRR5836473_1_bismark_bt2_pe.bam.deduplicated.deduplicated.txt.gz was empty ->\tdeleted\n",
            "CHH_CTOB_SRR5836473_1_bismark_bt2_pe.bam.deduplicated.deduplicated.txt.gz was empty ->\tdeleted\n",
            "CHH_OB_SRR5836473_1_bismark_bt2_pe.bam.deduplicated.deduplicated.txt.gz contains data ->\tkept\n",
            "\n",
            "\n",
            "Using these input files: CpG_OT_SRR5836473_1_bismark_bt2_pe.bam.deduplicated.deduplicated.txt.gz CpG_OB_SRR5836473_1_bismark_bt2_pe.bam.deduplicated.deduplicated.txt.gz CHG_OT_SRR5836473_1_bismark_bt2_pe.bam.deduplicated.deduplicated.txt.gz CHG_OB_SRR5836473_1_bismark_bt2_pe.bam.deduplicated.deduplicated.txt.gz CHH_OT_SRR5836473_1_bismark_bt2_pe.bam.deduplicated.deduplicated.txt.gz CHH_OB_SRR5836473_1_bismark_bt2_pe.bam.deduplicated.deduplicated.txt.gz\n",
            "\n",
            "Summary of parameters for bismark2bedGraph conversion:\n",
            "======================================================\n",
            "bedGraph output:\t\tSRR5836473_1_bismark_bt2_pe.bam.deduplicated.deduplicated.bedGraph.gz\n",
            "output directory:\t\t><\n",
            "remove whitespaces:\t\tno\n",
            "CX context:\t\t\tno (CpG context only, default)\n",
            "No-header selected:\t\tno\n",
            "Sorting method:\t\t\tUnix sort-based (smaller memory footprint, but slower)\n",
            "Sort buffer size:\t\t2G\n",
            "Coverage threshold:\t\t1\n",
            "=============================================================================\n",
            "Methylation information will now be written into a bedGraph and coverage file\n",
            "=============================================================================\n",
            "\n",
            "Using the following files as Input:\n",
            "/content/CpG_OT_SRR5836473_1_bismark_bt2_pe.bam.deduplicated.deduplicated.txt.gz\t/content/CpG_OB_SRR5836473_1_bismark_bt2_pe.bam.deduplicated.deduplicated.txt.gz\n",
            "\n",
            "Writing bedGraph to file: SRR5836473_1_bismark_bt2_pe.bam.deduplicated.deduplicated.bedGraph.gz\n",
            "Also writing out a coverage file including counts methylated and unmethylated residues to file: SRR5836473_1_bismark_bt2_pe.bam.deduplicated.deduplicated.bismark.cov.gz\n",
            "\n",
            "Now writing methylation information for file >>CpG_OT_SRR5836473_1_bismark_bt2_pe.bam.deduplicated.deduplicated.txt.gz<< to individual files for each chromosome\n",
            "Finished writing out individual chromosome files for CpG_OT_SRR5836473_1_bismark_bt2_pe.bam.deduplicated.deduplicated.txt.gz\n",
            "Now writing methylation information for file >>CpG_OB_SRR5836473_1_bismark_bt2_pe.bam.deduplicated.deduplicated.txt.gz<< to individual files for each chromosome\n",
            "Finished writing out individual chromosome files for CpG_OB_SRR5836473_1_bismark_bt2_pe.bam.deduplicated.deduplicated.txt.gz\n",
            "\n",
            "Collecting temporary chromosome file information... Processing the following input file(s):\n",
            "CpG_OT_SRR5836473_1_bismark_bt2_pe.bam.deduplicated.deduplicated.txt.gz.chrchr11.methXtractor.temp\n",
            "\n",
            "Sorting input file CpG_OT_SRR5836473_1_bismark_bt2_pe.bam.deduplicated.deduplicated.txt.gz.chrchr11.methXtractor.temp by positions (using -S of 2G)\n",
            "tcmalloc: large alloc 2147491840 bytes == 0x55d2af610000 @  0x7fca9954b1e7 0x55d2acc79718 0x55d2acc785a1 0x7fca98f29bf7 0x55d2acc7902a\n",
            "Successfully deleted the temporary input file CpG_OT_SRR5836473_1_bismark_bt2_pe.bam.deduplicated.deduplicated.txt.gz.chrchr11.methXtractor.temp\n",
            "\n",
            "Finished BedGraph conversion ...\n",
            "\n",
            "Summary of parameters for genome-wide cytosine report:\n",
            "==============================================================================\n",
            "Coverage infile:\t\t\t\tSRR5836473_1_bismark_bt2_pe.bam.deduplicated.deduplicated.bismark.cov.gz\n",
            "Output directory:\t\t\t\t><\n",
            "Parent directory:\t\t\t\t>/content/<\n",
            "Genome directory:\t\t\t\t>/content/mouse_chr/<\n",
            "Coverage threshold\t\t\t\t0 (all positions will be reported, default)\n",
            "CX context:\t\t\t\t\tno (CpG context only, default)\n",
            "Genome coordinates used:\t\t\t1-based (default)\n",
            "GZIP compression:\t\t\t\tyes\n",
            "Split by chromosome:\t\t\t\tno\n",
            "\n",
            "\n",
            "Now reading in and storing sequence information of the genome specified in: /content/mouse_chr/\n",
            "\n",
            "chr chr11 (122082543 bp)\n",
            "\n",
            "Stored sequence information of 1 chromosomes/scaffolds in total\n",
            "\n",
            "==============================================================================\n",
            "Methylation information will now be written into a genome-wide cytosine report\n",
            "==============================================================================\n",
            "\n",
            "Adding context-specific methylation summaries\n",
            "\n",
            ">>> Writing genome-wide cytosine report to: SRR5836473_1_bismark_bt2_pe.bam.deduplicated.deduplicated.CpG_report.txt.gz <<<\n",
            "\n",
            ">>> Writing all cytosine context summary file to: SRR5836473_1_bismark_bt2_pe.bam.deduplicated.deduplicated.cytosine_context_summary.txt <<<\n",
            "\n",
            "Storing all covered cytosine positions for chromosome: chr11\n",
            "Writing cytosine report for last chromosome chr11 (stored 1736778 different covered positions)\n",
            "Finished writing out cytosine report for covered chromosomes (processed 1 chromosomes/scaffolds in total)\n",
            "\n",
            "Now processing chromosomes that were not covered by any methylation calls in the coverage file...\n",
            "All chromosomes in the genome were covered by at least some reads. coverage2cytosine processing complete.\n",
            "\n",
            "\n",
            "\n",
            "Finished generating genome-wide cytosine report\n",
            "\n"
          ]
        }
      ],
      "source": [
        "! bismark_methylation_extractor --gzip --bedGraph --cytosine_report --genome_folder ./mouse_chr /content/drive/MyDrive/SRR5836473_1_bismark_bt2_pe.bam.deduplicated.deduplicated.bam"
      ]
    },
    {
      "cell_type": "code",
      "source": [
        "! mv *.gz /content/drive/MyDrive/bioinfHW1/bismark_methylation_extractor_SRR5836473\n",
        "! mv *.txt /content/drive/MyDrive/bioinfHW1/bismark_methylation_extractor_SRR5836473"
      ],
      "metadata": {
        "id": "awbY2AZjvX8R"
      },
      "execution_count": null,
      "outputs": []
    },
    {
      "cell_type": "code",
      "source": [
        "! bismark_methylation_extractor --gzip --bedGraph --cytosine_report --genome_folder ./mouse_chr /content/drive/MyDrive/bioinfHW1/SRR3824222_1_bismark_bt2_pe.bam.deduplicated.deduplicated.bam"
      ],
      "metadata": {
        "colab": {
          "base_uri": "https://localhost:8080/"
        },
        "id": "RbOiRU87s6TS",
        "outputId": "0fb1af50-55c3-4128-f32d-1ffaa21c5412"
      },
      "execution_count": 16,
      "outputs": [
        {
          "output_type": "stream",
          "name": "stdout",
          "text": [
            "\n",
            " *** Bismark methylation extractor version v0.23.1 ***\n",
            "\n",
            "Trying to determine the type of mapping from the SAM header line of file /content/drive/MyDrive/bioinfHW1/SRR3824222_1_bismark_bt2_pe.bam.deduplicated.deduplicated.bam\n",
            "Treating file(s) as paired-end data (as extracted from @PG line)\n",
            "\n",
            "Setting option '--no_overlap' since this is (normally) the right thing to do for paired-end data\n",
            "\n",
            "\n",
            "Setting core usage to single-threaded (default). Consider using --multicore <int> to speed up the extraction process.\n",
            "\n",
            "Summarising Bismark methylation extractor parameters:\n",
            "===============================================================\n",
            "Bismark paired-end SAM format specified (default)\n",
            "Number of cores to be used: 1\n",
            "Output will be written to the current directory ('/content')\n",
            "\n",
            "\n",
            "Summarising bedGraph parameters:\n",
            "===============================================================\n",
            "Generating additional output in bedGraph and coverage format\n",
            "bedGraph format:\t<Chromosome> <Start Position> <End Position> <Methylation Percentage>\n",
            "coverage format:\t<Chromosome> <Start Position> <End Position> <Methylation Percentage> <count methylated> <count non-methylated>\n",
            "\n",
            "Using a cutoff of 1 read(s) to report cytosine positions\n",
            "Reporting and sorting cytosine methylation information in CpG context only (default)\n",
            "The bedGraph UNIX sort command will use the following memory setting:\t'2G'. Temporary directory used for sorting is the output directory\n",
            "\n",
            "\n",
            "Summarising genome-wide cytosine methylation report parameters:\n",
            "===============================================================\n",
            "Generating comprehensive genome-wide cytosine report\n",
            "(output format: <Chromosome> <Position> <Strand> <count methylated> <count non-methylated>  <C-context>  <trinucleotide context> )\n",
            "Reporting cytosine methylation in CpG context only (default)\n",
            "Using 1-based genomic coordinates (default)\n",
            "Genome folder was specified as ./mouse_chr/\n",
            "\n",
            "Checking file >>/content/drive/MyDrive/bioinfHW1/SRR3824222_1_bismark_bt2_pe.bam.deduplicated.deduplicated.bam<< for signs of file truncation...\n",
            "\n",
            "\n",
            "Now testing Bismark result file >/content/drive/MyDrive/bioinfHW1/SRR3824222_1_bismark_bt2_pe.bam.deduplicated.deduplicated.bam< for positional sorting (which would be bad...)\t...passed!\n",
            "Writing result file containing methylation information for C in CpG context from the original top strand to CpG_OT_SRR3824222_1_bismark_bt2_pe.bam.deduplicated.deduplicated.txt.gz\n",
            "Writing result file containing methylation information for C in CpG context from the complementary to original top strand to CpG_CTOT_SRR3824222_1_bismark_bt2_pe.bam.deduplicated.deduplicated.txt.gz\n",
            "Writing result file containing methylation information for C in CpG context from the complementary to original bottom strand to CpG_CTOB_SRR3824222_1_bismark_bt2_pe.bam.deduplicated.deduplicated.txt.gz\n",
            "Writing result file containing methylation information for C in CpG context from the original bottom strand to CpG_OB_SRR3824222_1_bismark_bt2_pe.bam.deduplicated.deduplicated.txt.gz\n",
            "\n",
            "Writing result file containing methylation information for C in CHG context from the original top strand to CHG_OT_SRR3824222_1_bismark_bt2_pe.bam.deduplicated.deduplicated.txt.gz\n",
            "Writing result file containing methylation information for C in CHG context from the complementary to original top strand to CHG_CTOT_SRR3824222_1_bismark_bt2_pe.bam.deduplicated.deduplicated.txt.gz\n",
            "Writing result file containing methylation information for C in CHG context from the complementary to original bottom strand to CHG_CTOB_SRR3824222_1_bismark_bt2_pe.bam.deduplicated.deduplicated.txt.gz\n",
            "Writing result file containing methylation information for C in CHG context from the original bottom strand to CHG_OB_SRR3824222_1_bismark_bt2_pe.bam.deduplicated.deduplicated.txt.gz\n",
            "\n",
            "Writing result file containing methylation information for C in CHH context from the original top strand to CHH_OT_SRR3824222_1_bismark_bt2_pe.bam.deduplicated.deduplicated.txt.gz\n",
            "Writing result file containing methylation information for C in CHH context from the complementary to original top strand to CHH_CTOT_SRR3824222_1_bismark_bt2_pe.bam.deduplicated.deduplicated.txt.gz\n",
            "Writing result file containing methylation information for C in CHH context from the complementary to original bottom strand to CHH_CTOB_SRR3824222_1_bismark_bt2_pe.bam.deduplicated.deduplicated.txt.gz\n",
            "Writing result file containing methylation information for C in CHH context from the original bottom strand to CHH_OB_SRR3824222_1_bismark_bt2_pe.bam.deduplicated.deduplicated.txt.gz\n",
            "\n",
            "Now reading in Bismark result file /content/drive/MyDrive/bioinfHW1/SRR3824222_1_bismark_bt2_pe.bam.deduplicated.deduplicated.bam\n",
            "skipping SAM header line:\t@HD\tVN:1.0\tSO:unsorted\n",
            "skipping SAM header line:\t@SQ\tSN:chr11\tLN:122082543\n",
            "skipping SAM header line:\t@PG\tID:Bismark\tVN:v0.23.1dev\tCL:\"bismark -p 2 --gzip mouse_chr -1 data/SRR3824222_1.fastq.gz -2 data/SRR3824222_2.fastq.gz -o epiblast/\"\n",
            "Processed lines: 500000\n",
            "Processed lines: 1000000\n",
            "Processed lines: 1500000\n",
            "Processed lines: 2000000\n",
            "Processed lines: 2500000\n",
            "Processed lines: 3000000\n",
            "Processed lines: 3500000\n",
            "Processed lines: 4000000\n",
            "Processed lines: 4500000\n",
            "Processed lines: 5000000\n",
            "Processed lines: 5500000\n",
            "Processed lines: 6000000\n",
            "Processed lines: 6500000\n",
            "\n",
            "Processed 6833758 lines in total\n",
            "Total number of methylation call strings processed: 13667516\n",
            "\n",
            "Final Cytosine Methylation Report\n",
            "=================================\n",
            "Total number of C's analysed:\t330808061\n",
            "\n",
            "Total methylated C's in CpG context:\t11544557\n",
            "Total methylated C's in CHG context:\t1572954\n",
            "Total methylated C's in CHH context:\t3695988\n",
            "\n",
            "Total C to T conversions in CpG context:\t3465254\n",
            "Total C to T conversions in CHG context:\t71995231\n",
            "Total C to T conversions in CHH context:\t238534077\n",
            "\n",
            "C methylated in CpG context:\t76.9%\n",
            "C methylated in CHG context:\t2.1%\n",
            "C methylated in CHH context:\t1.5%\n",
            "\n",
            "\n",
            "Determining maximum read lengths for M-Bias plots\n",
            "Maximum read length of Read 1: 140\n",
            "Maximum read length of Read 2: 140\n",
            "\n",
            "Perl module GD::Graph::lines is not installed, skipping drawing M-bias plots (only writing out M-bias plot table)\n",
            "Determining maximum read lengths for M-Bias plots\n",
            "Maximum read length of Read 1: 140\n",
            "Maximum read length of Read 2: 140\n",
            "\n",
            "Perl module GD::Graph::lines is not installed, skipping drawing M-bias plots (only writing out M-bias plot table)\n",
            "Deleting unused files ...\n",
            "\n",
            "CpG_OT_SRR3824222_1_bismark_bt2_pe.bam.deduplicated.deduplicated.txt.gz contains data ->\tkept\n",
            "CpG_CTOT_SRR3824222_1_bismark_bt2_pe.bam.deduplicated.deduplicated.txt.gz was empty ->\tdeleted\n",
            "CpG_CTOB_SRR3824222_1_bismark_bt2_pe.bam.deduplicated.deduplicated.txt.gz was empty ->\tdeleted\n",
            "CpG_OB_SRR3824222_1_bismark_bt2_pe.bam.deduplicated.deduplicated.txt.gz contains data ->\tkept\n",
            "CHG_OT_SRR3824222_1_bismark_bt2_pe.bam.deduplicated.deduplicated.txt.gz contains data ->\tkept\n",
            "CHG_CTOT_SRR3824222_1_bismark_bt2_pe.bam.deduplicated.deduplicated.txt.gz was empty ->\tdeleted\n",
            "CHG_CTOB_SRR3824222_1_bismark_bt2_pe.bam.deduplicated.deduplicated.txt.gz was empty ->\tdeleted\n",
            "CHG_OB_SRR3824222_1_bismark_bt2_pe.bam.deduplicated.deduplicated.txt.gz contains data ->\tkept\n",
            "CHH_OT_SRR3824222_1_bismark_bt2_pe.bam.deduplicated.deduplicated.txt.gz contains data ->\tkept\n",
            "CHH_CTOT_SRR3824222_1_bismark_bt2_pe.bam.deduplicated.deduplicated.txt.gz was empty ->\tdeleted\n",
            "CHH_CTOB_SRR3824222_1_bismark_bt2_pe.bam.deduplicated.deduplicated.txt.gz was empty ->\tdeleted\n",
            "CHH_OB_SRR3824222_1_bismark_bt2_pe.bam.deduplicated.deduplicated.txt.gz contains data ->\tkept\n",
            "\n",
            "\n",
            "Using these input files: CpG_OT_SRR3824222_1_bismark_bt2_pe.bam.deduplicated.deduplicated.txt.gz CpG_OB_SRR3824222_1_bismark_bt2_pe.bam.deduplicated.deduplicated.txt.gz CHG_OT_SRR3824222_1_bismark_bt2_pe.bam.deduplicated.deduplicated.txt.gz CHG_OB_SRR3824222_1_bismark_bt2_pe.bam.deduplicated.deduplicated.txt.gz CHH_OT_SRR3824222_1_bismark_bt2_pe.bam.deduplicated.deduplicated.txt.gz CHH_OB_SRR3824222_1_bismark_bt2_pe.bam.deduplicated.deduplicated.txt.gz\n",
            "\n",
            "Summary of parameters for bismark2bedGraph conversion:\n",
            "======================================================\n",
            "bedGraph output:\t\tSRR3824222_1_bismark_bt2_pe.bam.deduplicated.deduplicated.bedGraph.gz\n",
            "output directory:\t\t><\n",
            "remove whitespaces:\t\tno\n",
            "CX context:\t\t\tno (CpG context only, default)\n",
            "No-header selected:\t\tno\n",
            "Sorting method:\t\t\tUnix sort-based (smaller memory footprint, but slower)\n",
            "Sort buffer size:\t\t2G\n",
            "Coverage threshold:\t\t1\n",
            "=============================================================================\n",
            "Methylation information will now be written into a bedGraph and coverage file\n",
            "=============================================================================\n",
            "\n",
            "Using the following files as Input:\n",
            "/content/CpG_OT_SRR3824222_1_bismark_bt2_pe.bam.deduplicated.deduplicated.txt.gz\t/content/CpG_OB_SRR3824222_1_bismark_bt2_pe.bam.deduplicated.deduplicated.txt.gz\n",
            "\n",
            "Writing bedGraph to file: SRR3824222_1_bismark_bt2_pe.bam.deduplicated.deduplicated.bedGraph.gz\n",
            "Also writing out a coverage file including counts methylated and unmethylated residues to file: SRR3824222_1_bismark_bt2_pe.bam.deduplicated.deduplicated.bismark.cov.gz\n",
            "\n",
            "Now writing methylation information for file >>CpG_OT_SRR3824222_1_bismark_bt2_pe.bam.deduplicated.deduplicated.txt.gz<< to individual files for each chromosome\n",
            "Finished writing out individual chromosome files for CpG_OT_SRR3824222_1_bismark_bt2_pe.bam.deduplicated.deduplicated.txt.gz\n",
            "Now writing methylation information for file >>CpG_OB_SRR3824222_1_bismark_bt2_pe.bam.deduplicated.deduplicated.txt.gz<< to individual files for each chromosome\n",
            "Finished writing out individual chromosome files for CpG_OB_SRR3824222_1_bismark_bt2_pe.bam.deduplicated.deduplicated.txt.gz\n",
            "\n",
            "Collecting temporary chromosome file information... Processing the following input file(s):\n",
            "CpG_OT_SRR3824222_1_bismark_bt2_pe.bam.deduplicated.deduplicated.txt.gz.chrchr11.methXtractor.temp\n",
            "\n",
            "Sorting input file CpG_OT_SRR3824222_1_bismark_bt2_pe.bam.deduplicated.deduplicated.txt.gz.chrchr11.methXtractor.temp by positions (using -S of 2G)\n",
            "tcmalloc: large alloc 2147491840 bytes == 0x55cae8a06000 @  0x7fb7b1a331e7 0x55cae6a58718 0x55cae6a575a1 0x7fb7b1411bf7 0x55cae6a5802a\n",
            "Successfully deleted the temporary input file CpG_OT_SRR3824222_1_bismark_bt2_pe.bam.deduplicated.deduplicated.txt.gz.chrchr11.methXtractor.temp\n",
            "\n",
            "Finished BedGraph conversion ...\n",
            "\n",
            "Summary of parameters for genome-wide cytosine report:\n",
            "==============================================================================\n",
            "Coverage infile:\t\t\t\tSRR3824222_1_bismark_bt2_pe.bam.deduplicated.deduplicated.bismark.cov.gz\n",
            "Output directory:\t\t\t\t><\n",
            "Parent directory:\t\t\t\t>/content/<\n",
            "Genome directory:\t\t\t\t>/content/mouse_chr/<\n",
            "Coverage threshold\t\t\t\t0 (all positions will be reported, default)\n",
            "CX context:\t\t\t\t\tno (CpG context only, default)\n",
            "Genome coordinates used:\t\t\t1-based (default)\n",
            "GZIP compression:\t\t\t\tyes\n",
            "Split by chromosome:\t\t\t\tno\n",
            "\n",
            "\n",
            "Now reading in and storing sequence information of the genome specified in: /content/mouse_chr/\n",
            "\n",
            "chr chr11 (122082543 bp)\n",
            "\n",
            "Stored sequence information of 1 chromosomes/scaffolds in total\n",
            "\n",
            "==============================================================================\n",
            "Methylation information will now be written into a genome-wide cytosine report\n",
            "==============================================================================\n",
            "\n",
            "Adding context-specific methylation summaries\n",
            "\n",
            ">>> Writing genome-wide cytosine report to: SRR3824222_1_bismark_bt2_pe.bam.deduplicated.deduplicated.CpG_report.txt.gz <<<\n",
            "\n",
            ">>> Writing all cytosine context summary file to: SRR3824222_1_bismark_bt2_pe.bam.deduplicated.deduplicated.cytosine_context_summary.txt <<<\n",
            "\n",
            "Storing all covered cytosine positions for chromosome: chr11\n",
            "Writing cytosine report for last chromosome chr11 (stored 2249610 different covered positions)\n",
            "Finished writing out cytosine report for covered chromosomes (processed 1 chromosomes/scaffolds in total)\n",
            "\n",
            "Now processing chromosomes that were not covered by any methylation calls in the coverage file...\n",
            "All chromosomes in the genome were covered by at least some reads. coverage2cytosine processing complete.\n",
            "\n",
            "\n",
            "\n",
            "Finished generating genome-wide cytosine report\n",
            "\n"
          ]
        }
      ]
    },
    {
      "cell_type": "code",
      "source": [
        "! mv *.gz /content/drive/MyDrive/bioinfHW1/bismark_methylation_extractor_SRR3824222\n",
        "! mv *.txt /content/drive/MyDrive/bioinfHW1/bismark_methylation_extractor_SRR3824222"
      ],
      "metadata": {
        "id": "uZUXE8KP53Da"
      },
      "execution_count": 17,
      "outputs": []
    },
    {
      "cell_type": "code",
      "source": [
        "! bismark_methylation_extractor --gzip --bedGraph --cytosine_report --genome_folder ./mouse_chr /content/drive/MyDrive/bioinfHW1/SRR5836475_1_bismark_bt2_pe.bam.deduplicated.deduplicated.bam"
      ],
      "metadata": {
        "colab": {
          "base_uri": "https://localhost:8080/"
        },
        "id": "oNs4dqvv6JGn",
        "outputId": "c47fb588-e508-4372-a511-74ba496bf6ea"
      },
      "execution_count": 18,
      "outputs": [
        {
          "output_type": "stream",
          "name": "stdout",
          "text": [
            "\n",
            " *** Bismark methylation extractor version v0.23.1 ***\n",
            "\n",
            "Trying to determine the type of mapping from the SAM header line of file /content/drive/MyDrive/bioinfHW1/SRR5836475_1_bismark_bt2_pe.bam.deduplicated.deduplicated.bam\n",
            "Treating file(s) as paired-end data (as extracted from @PG line)\n",
            "\n",
            "Setting option '--no_overlap' since this is (normally) the right thing to do for paired-end data\n",
            "\n",
            "\n",
            "Setting core usage to single-threaded (default). Consider using --multicore <int> to speed up the extraction process.\n",
            "\n",
            "Summarising Bismark methylation extractor parameters:\n",
            "===============================================================\n",
            "Bismark paired-end SAM format specified (default)\n",
            "Number of cores to be used: 1\n",
            "Output will be written to the current directory ('/content')\n",
            "\n",
            "\n",
            "Summarising bedGraph parameters:\n",
            "===============================================================\n",
            "Generating additional output in bedGraph and coverage format\n",
            "bedGraph format:\t<Chromosome> <Start Position> <End Position> <Methylation Percentage>\n",
            "coverage format:\t<Chromosome> <Start Position> <End Position> <Methylation Percentage> <count methylated> <count non-methylated>\n",
            "\n",
            "Using a cutoff of 1 read(s) to report cytosine positions\n",
            "Reporting and sorting cytosine methylation information in CpG context only (default)\n",
            "The bedGraph UNIX sort command will use the following memory setting:\t'2G'. Temporary directory used for sorting is the output directory\n",
            "\n",
            "\n",
            "Summarising genome-wide cytosine methylation report parameters:\n",
            "===============================================================\n",
            "Generating comprehensive genome-wide cytosine report\n",
            "(output format: <Chromosome> <Position> <Strand> <count methylated> <count non-methylated>  <C-context>  <trinucleotide context> )\n",
            "Reporting cytosine methylation in CpG context only (default)\n",
            "Using 1-based genomic coordinates (default)\n",
            "Genome folder was specified as ./mouse_chr/\n",
            "\n",
            "Checking file >>/content/drive/MyDrive/bioinfHW1/SRR5836475_1_bismark_bt2_pe.bam.deduplicated.deduplicated.bam<< for signs of file truncation...\n",
            "\n",
            "\n",
            "Now testing Bismark result file >/content/drive/MyDrive/bioinfHW1/SRR5836475_1_bismark_bt2_pe.bam.deduplicated.deduplicated.bam< for positional sorting (which would be bad...)\t...passed!\n",
            "Writing result file containing methylation information for C in CpG context from the original top strand to CpG_OT_SRR5836475_1_bismark_bt2_pe.bam.deduplicated.deduplicated.txt.gz\n",
            "Writing result file containing methylation information for C in CpG context from the complementary to original top strand to CpG_CTOT_SRR5836475_1_bismark_bt2_pe.bam.deduplicated.deduplicated.txt.gz\n",
            "Writing result file containing methylation information for C in CpG context from the complementary to original bottom strand to CpG_CTOB_SRR5836475_1_bismark_bt2_pe.bam.deduplicated.deduplicated.txt.gz\n",
            "Writing result file containing methylation information for C in CpG context from the original bottom strand to CpG_OB_SRR5836475_1_bismark_bt2_pe.bam.deduplicated.deduplicated.txt.gz\n",
            "\n",
            "Writing result file containing methylation information for C in CHG context from the original top strand to CHG_OT_SRR5836475_1_bismark_bt2_pe.bam.deduplicated.deduplicated.txt.gz\n",
            "Writing result file containing methylation information for C in CHG context from the complementary to original top strand to CHG_CTOT_SRR5836475_1_bismark_bt2_pe.bam.deduplicated.deduplicated.txt.gz\n",
            "Writing result file containing methylation information for C in CHG context from the complementary to original bottom strand to CHG_CTOB_SRR5836475_1_bismark_bt2_pe.bam.deduplicated.deduplicated.txt.gz\n",
            "Writing result file containing methylation information for C in CHG context from the original bottom strand to CHG_OB_SRR5836475_1_bismark_bt2_pe.bam.deduplicated.deduplicated.txt.gz\n",
            "\n",
            "Writing result file containing methylation information for C in CHH context from the original top strand to CHH_OT_SRR5836475_1_bismark_bt2_pe.bam.deduplicated.deduplicated.txt.gz\n",
            "Writing result file containing methylation information for C in CHH context from the complementary to original top strand to CHH_CTOT_SRR5836475_1_bismark_bt2_pe.bam.deduplicated.deduplicated.txt.gz\n",
            "Writing result file containing methylation information for C in CHH context from the complementary to original bottom strand to CHH_CTOB_SRR5836475_1_bismark_bt2_pe.bam.deduplicated.deduplicated.txt.gz\n",
            "Writing result file containing methylation information for C in CHH context from the original bottom strand to CHH_OB_SRR5836475_1_bismark_bt2_pe.bam.deduplicated.deduplicated.txt.gz\n",
            "\n",
            "Now reading in Bismark result file /content/drive/MyDrive/bioinfHW1/SRR5836475_1_bismark_bt2_pe.bam.deduplicated.deduplicated.bam\n",
            "skipping SAM header line:\t@HD\tVN:1.0\tSO:unsorted\n",
            "skipping SAM header line:\t@SQ\tSN:chr11\tLN:122082543\n",
            "skipping SAM header line:\t@PG\tID:Bismark\tVN:v0.23.1dev\tCL:\"bismark --gzip mouse_chr -1 data/SRR5836475_1.fastq.gz -2 data/SRR5836475_2.fastq.gz -o ICM/\"\n",
            "Processed lines: 500000\n",
            "Processed lines: 1000000\n",
            "Processed lines: 1500000\n",
            "Processed lines: 2000000\n",
            "Processed lines: 2500000\n",
            "Processed lines: 3000000\n",
            "Processed lines: 3500000\n",
            "\n",
            "Processed 3782116 lines in total\n",
            "Total number of methylation call strings processed: 7564232\n",
            "\n",
            "Final Cytosine Methylation Report\n",
            "=================================\n",
            "Total number of C's analysed:\t177157754\n",
            "\n",
            "Total methylated C's in CpG context:\t1914374\n",
            "Total methylated C's in CHG context:\t297421\n",
            "Total methylated C's in CHH context:\t1066806\n",
            "\n",
            "Total C to T conversions in CpG context:\t6262904\n",
            "Total C to T conversions in CHG context:\t39194423\n",
            "Total C to T conversions in CHH context:\t128421826\n",
            "\n",
            "C methylated in CpG context:\t23.4%\n",
            "C methylated in CHG context:\t0.8%\n",
            "C methylated in CHH context:\t0.8%\n",
            "\n",
            "\n",
            "Determining maximum read lengths for M-Bias plots\n",
            "Maximum read length of Read 1: 140\n",
            "Maximum read length of Read 2: 140\n",
            "\n",
            "Perl module GD::Graph::lines is not installed, skipping drawing M-bias plots (only writing out M-bias plot table)\n",
            "Determining maximum read lengths for M-Bias plots\n",
            "Maximum read length of Read 1: 140\n",
            "Maximum read length of Read 2: 140\n",
            "\n",
            "Perl module GD::Graph::lines is not installed, skipping drawing M-bias plots (only writing out M-bias plot table)\n",
            "Deleting unused files ...\n",
            "\n",
            "CpG_OT_SRR5836475_1_bismark_bt2_pe.bam.deduplicated.deduplicated.txt.gz contains data ->\tkept\n",
            "CpG_CTOT_SRR5836475_1_bismark_bt2_pe.bam.deduplicated.deduplicated.txt.gz was empty ->\tdeleted\n",
            "CpG_CTOB_SRR5836475_1_bismark_bt2_pe.bam.deduplicated.deduplicated.txt.gz was empty ->\tdeleted\n",
            "CpG_OB_SRR5836475_1_bismark_bt2_pe.bam.deduplicated.deduplicated.txt.gz contains data ->\tkept\n",
            "CHG_OT_SRR5836475_1_bismark_bt2_pe.bam.deduplicated.deduplicated.txt.gz contains data ->\tkept\n",
            "CHG_CTOT_SRR5836475_1_bismark_bt2_pe.bam.deduplicated.deduplicated.txt.gz was empty ->\tdeleted\n",
            "CHG_CTOB_SRR5836475_1_bismark_bt2_pe.bam.deduplicated.deduplicated.txt.gz was empty ->\tdeleted\n",
            "CHG_OB_SRR5836475_1_bismark_bt2_pe.bam.deduplicated.deduplicated.txt.gz contains data ->\tkept\n",
            "CHH_OT_SRR5836475_1_bismark_bt2_pe.bam.deduplicated.deduplicated.txt.gz contains data ->\tkept\n",
            "CHH_CTOT_SRR5836475_1_bismark_bt2_pe.bam.deduplicated.deduplicated.txt.gz was empty ->\tdeleted\n",
            "CHH_CTOB_SRR5836475_1_bismark_bt2_pe.bam.deduplicated.deduplicated.txt.gz was empty ->\tdeleted\n",
            "CHH_OB_SRR5836475_1_bismark_bt2_pe.bam.deduplicated.deduplicated.txt.gz contains data ->\tkept\n",
            "\n",
            "\n",
            "Using these input files: CpG_OT_SRR5836475_1_bismark_bt2_pe.bam.deduplicated.deduplicated.txt.gz CpG_OB_SRR5836475_1_bismark_bt2_pe.bam.deduplicated.deduplicated.txt.gz CHG_OT_SRR5836475_1_bismark_bt2_pe.bam.deduplicated.deduplicated.txt.gz CHG_OB_SRR5836475_1_bismark_bt2_pe.bam.deduplicated.deduplicated.txt.gz CHH_OT_SRR5836475_1_bismark_bt2_pe.bam.deduplicated.deduplicated.txt.gz CHH_OB_SRR5836475_1_bismark_bt2_pe.bam.deduplicated.deduplicated.txt.gz\n",
            "\n",
            "Summary of parameters for bismark2bedGraph conversion:\n",
            "======================================================\n",
            "bedGraph output:\t\tSRR5836475_1_bismark_bt2_pe.bam.deduplicated.deduplicated.bedGraph.gz\n",
            "output directory:\t\t><\n",
            "remove whitespaces:\t\tno\n",
            "CX context:\t\t\tno (CpG context only, default)\n",
            "No-header selected:\t\tno\n",
            "Sorting method:\t\t\tUnix sort-based (smaller memory footprint, but slower)\n",
            "Sort buffer size:\t\t2G\n",
            "Coverage threshold:\t\t1\n",
            "=============================================================================\n",
            "Methylation information will now be written into a bedGraph and coverage file\n",
            "=============================================================================\n",
            "\n",
            "Using the following files as Input:\n",
            "/content/CpG_OT_SRR5836475_1_bismark_bt2_pe.bam.deduplicated.deduplicated.txt.gz\t/content/CpG_OB_SRR5836475_1_bismark_bt2_pe.bam.deduplicated.deduplicated.txt.gz\n",
            "\n",
            "Writing bedGraph to file: SRR5836475_1_bismark_bt2_pe.bam.deduplicated.deduplicated.bedGraph.gz\n",
            "Also writing out a coverage file including counts methylated and unmethylated residues to file: SRR5836475_1_bismark_bt2_pe.bam.deduplicated.deduplicated.bismark.cov.gz\n",
            "\n",
            "Now writing methylation information for file >>CpG_OT_SRR5836475_1_bismark_bt2_pe.bam.deduplicated.deduplicated.txt.gz<< to individual files for each chromosome\n",
            "Finished writing out individual chromosome files for CpG_OT_SRR5836475_1_bismark_bt2_pe.bam.deduplicated.deduplicated.txt.gz\n",
            "Now writing methylation information for file >>CpG_OB_SRR5836475_1_bismark_bt2_pe.bam.deduplicated.deduplicated.txt.gz<< to individual files for each chromosome\n",
            "Finished writing out individual chromosome files for CpG_OB_SRR5836475_1_bismark_bt2_pe.bam.deduplicated.deduplicated.txt.gz\n",
            "\n",
            "Collecting temporary chromosome file information... Processing the following input file(s):\n",
            "CpG_OT_SRR5836475_1_bismark_bt2_pe.bam.deduplicated.deduplicated.txt.gz.chrchr11.methXtractor.temp\n",
            "\n",
            "Sorting input file CpG_OT_SRR5836475_1_bismark_bt2_pe.bam.deduplicated.deduplicated.txt.gz.chrchr11.methXtractor.temp by positions (using -S of 2G)\n",
            "tcmalloc: large alloc 2147491840 bytes == 0x557616a0e000 @  0x7fba183721e7 0x557614500718 0x5576144ff5a1 0x7fba17d50bf7 0x55761450002a\n",
            "Successfully deleted the temporary input file CpG_OT_SRR5836475_1_bismark_bt2_pe.bam.deduplicated.deduplicated.txt.gz.chrchr11.methXtractor.temp\n",
            "\n",
            "Finished BedGraph conversion ...\n",
            "\n",
            "Summary of parameters for genome-wide cytosine report:\n",
            "==============================================================================\n",
            "Coverage infile:\t\t\t\tSRR5836475_1_bismark_bt2_pe.bam.deduplicated.deduplicated.bismark.cov.gz\n",
            "Output directory:\t\t\t\t><\n",
            "Parent directory:\t\t\t\t>/content/<\n",
            "Genome directory:\t\t\t\t>/content/mouse_chr/<\n",
            "Coverage threshold\t\t\t\t0 (all positions will be reported, default)\n",
            "CX context:\t\t\t\t\tno (CpG context only, default)\n",
            "Genome coordinates used:\t\t\t1-based (default)\n",
            "GZIP compression:\t\t\t\tyes\n",
            "Split by chromosome:\t\t\t\tno\n",
            "\n",
            "\n",
            "Now reading in and storing sequence information of the genome specified in: /content/mouse_chr/\n",
            "\n",
            "chr chr11 (122082543 bp)\n",
            "\n",
            "Stored sequence information of 1 chromosomes/scaffolds in total\n",
            "\n",
            "==============================================================================\n",
            "Methylation information will now be written into a genome-wide cytosine report\n",
            "==============================================================================\n",
            "\n",
            "Adding context-specific methylation summaries\n",
            "\n",
            ">>> Writing genome-wide cytosine report to: SRR5836475_1_bismark_bt2_pe.bam.deduplicated.deduplicated.CpG_report.txt.gz <<<\n",
            "\n",
            ">>> Writing all cytosine context summary file to: SRR5836475_1_bismark_bt2_pe.bam.deduplicated.deduplicated.cytosine_context_summary.txt <<<\n",
            "\n",
            "Storing all covered cytosine positions for chromosome: chr11\n",
            "Writing cytosine report for last chromosome chr11 (stored 2053827 different covered positions)\n",
            "Finished writing out cytosine report for covered chromosomes (processed 1 chromosomes/scaffolds in total)\n",
            "\n",
            "Now processing chromosomes that were not covered by any methylation calls in the coverage file...\n",
            "All chromosomes in the genome were covered by at least some reads. coverage2cytosine processing complete.\n",
            "\n",
            "\n",
            "\n",
            "Finished generating genome-wide cytosine report\n",
            "\n"
          ]
        }
      ]
    },
    {
      "cell_type": "code",
      "source": [
        "! mv *.gz /content/drive/MyDrive/bioinfHW1/bismark_methylation_extractor_SRR5836475\n",
        "! mv *.txt /content/drive/MyDrive/bioinfHW1/bismark_methylation_extractor_SRR5836475"
      ],
      "metadata": {
        "id": "1kEe9pkKBUQi"
      },
      "execution_count": 19,
      "outputs": []
    },
    {
      "cell_type": "markdown",
      "source": [
        "### Отчет и описание M-bias plot"
      ],
      "metadata": {
        "id": "1yuRuud-mMK-"
      }
    },
    {
      "cell_type": "code",
      "execution_count": 21,
      "metadata": {
        "colab": {
          "base_uri": "https://localhost:8080/"
        },
        "id": "6RQ7FwM-UsSi",
        "outputId": "daf04a41-ab35-477b-8986-ec9dfba1573b"
      },
      "outputs": [
        {
          "output_type": "stream",
          "name": "stdout",
          "text": [
            "Use of uninitialized value $basename in concatenation (.) or string at /usr/local/bin/bismark2report line 1138.\n",
            "Use of uninitialized value $basename in concatenation (.) or string at /usr/local/bin/bismark2report line 1167.\n",
            "Use of uninitialized value $basename in concatenation (.) or string at /usr/local/bin/bismark2report line 1197.\n",
            "\n",
            "Writing Bismark HTML report to >> SRR5836473_1_bismark_bt2_pe.deduplication_report.html <<\n",
            "\n",
            "==============================================================================================================\n",
            "Using the following alignment report:\t\t> /content/drive/MyDrive/bioinfHW1/SRR5836473_1_bismark_bt2_pe.deduplication_report.txt <\n",
            "Processing alignment report /content/drive/MyDrive/bioinfHW1/SRR5836473_1_bismark_bt2_pe.deduplication_report.txt ...\n",
            "Am I missing something?\n",
            "\n",
            "Complete\n",
            "\n",
            "No deduplication report file specified, skipping this step\n",
            "No splitting report file specified, skipping this step\n",
            "Using the following M-bias report:\t\t> /content/drive/MyDrive/bioinfHW1/bismark_methylation_extractor_SRR5836473/SRR5836473_1_bismark_bt2_pe.bam.deduplicated.deduplicated.M-bias.txt <\n",
            "Processing M-bias report /content/drive/MyDrive/bioinfHW1/bismark_methylation_extractor_SRR5836473/SRR5836473_1_bismark_bt2_pe.bam.deduplicated.deduplicated.M-bias.txt ...\n",
            "Complete\n",
            "\n",
            "No nucleotide coverage report file specified, skipping this step\n",
            "==============================================================================================================\n",
            "\n",
            "\n"
          ]
        }
      ],
      "source": [
        "! bismark2report --alignment_report /content/drive/MyDrive/bioinfHW1/SRR5836473_1_bismark_bt2_pe.deduplication_report.txt --mbias_report /content/drive/MyDrive/bioinfHW1/bismark_methylation_extractor_SRR5836473/SRR5836473_1_bismark_bt2_pe.bam.deduplicated.deduplicated.M-bias.txt"
      ]
    },
    {
      "cell_type": "code",
      "source": [
        "! bismark2report --alignment_report /content/drive/MyDrive/bioinfHW1/SRR3824222_1_bismark_bt2_pe.deduplication_report.txt --mbias_report /content/drive/MyDrive/bioinfHW1/bismark_methylation_extractor_SRR3824222/SRR3824222_1_bismark_bt2_pe.bam.deduplicated.deduplicated.M-bias.txt"
      ],
      "metadata": {
        "colab": {
          "base_uri": "https://localhost:8080/"
        },
        "id": "BJzwvJUCDsOg",
        "outputId": "0759ceed-8621-44c2-b200-6d3bc982700f"
      },
      "execution_count": 22,
      "outputs": [
        {
          "output_type": "stream",
          "name": "stdout",
          "text": [
            "Use of uninitialized value $basename in concatenation (.) or string at /usr/local/bin/bismark2report line 1138.\n",
            "Use of uninitialized value $basename in concatenation (.) or string at /usr/local/bin/bismark2report line 1167.\n",
            "Use of uninitialized value $basename in concatenation (.) or string at /usr/local/bin/bismark2report line 1197.\n",
            "\n",
            "Writing Bismark HTML report to >> SRR3824222_1_bismark_bt2_pe.deduplication_report.html <<\n",
            "\n",
            "==============================================================================================================\n",
            "Using the following alignment report:\t\t> /content/drive/MyDrive/bioinfHW1/SRR3824222_1_bismark_bt2_pe.deduplication_report.txt <\n",
            "Processing alignment report /content/drive/MyDrive/bioinfHW1/SRR3824222_1_bismark_bt2_pe.deduplication_report.txt ...\n",
            "Am I missing something?\n",
            "\n",
            "Complete\n",
            "\n",
            "No deduplication report file specified, skipping this step\n",
            "No splitting report file specified, skipping this step\n",
            "Using the following M-bias report:\t\t> /content/drive/MyDrive/bioinfHW1/bismark_methylation_extractor_SRR3824222/SRR3824222_1_bismark_bt2_pe.bam.deduplicated.deduplicated.M-bias.txt <\n",
            "Processing M-bias report /content/drive/MyDrive/bioinfHW1/bismark_methylation_extractor_SRR3824222/SRR3824222_1_bismark_bt2_pe.bam.deduplicated.deduplicated.M-bias.txt ...\n",
            "Complete\n",
            "\n",
            "No nucleotide coverage report file specified, skipping this step\n",
            "==============================================================================================================\n",
            "\n",
            "\n"
          ]
        }
      ]
    },
    {
      "cell_type": "code",
      "source": [
        "! bismark2report --alignment_report /content/drive/MyDrive/bioinfHW1/SRR5836475_1_bismark_bt2_pe.deduplication_report.txt --mbias_report /content/drive/MyDrive/bioinfHW1/bismark_methylation_extractor_SRR5836475/SRR5836475_1_bismark_bt2_pe.bam.deduplicated.deduplicated.M-bias.txt"
      ],
      "metadata": {
        "colab": {
          "base_uri": "https://localhost:8080/"
        },
        "id": "U3xeLKXIDtiw",
        "outputId": "cd299f67-8341-449f-cf64-d7272a5d4fc2"
      },
      "execution_count": 23,
      "outputs": [
        {
          "output_type": "stream",
          "name": "stdout",
          "text": [
            "Use of uninitialized value $basename in concatenation (.) or string at /usr/local/bin/bismark2report line 1138.\n",
            "Use of uninitialized value $basename in concatenation (.) or string at /usr/local/bin/bismark2report line 1167.\n",
            "Use of uninitialized value $basename in concatenation (.) or string at /usr/local/bin/bismark2report line 1197.\n",
            "\n",
            "Writing Bismark HTML report to >> SRR5836475_1_bismark_bt2_pe.deduplication_report.html <<\n",
            "\n",
            "==============================================================================================================\n",
            "Using the following alignment report:\t\t> /content/drive/MyDrive/bioinfHW1/SRR5836475_1_bismark_bt2_pe.deduplication_report.txt <\n",
            "Processing alignment report /content/drive/MyDrive/bioinfHW1/SRR5836475_1_bismark_bt2_pe.deduplication_report.txt ...\n",
            "Am I missing something?\n",
            "\n",
            "Complete\n",
            "\n",
            "No deduplication report file specified, skipping this step\n",
            "No splitting report file specified, skipping this step\n",
            "Using the following M-bias report:\t\t> /content/drive/MyDrive/bioinfHW1/bismark_methylation_extractor_SRR5836475/SRR5836475_1_bismark_bt2_pe.bam.deduplicated.deduplicated.M-bias.txt <\n",
            "Processing M-bias report /content/drive/MyDrive/bioinfHW1/bismark_methylation_extractor_SRR5836475/SRR5836475_1_bismark_bt2_pe.bam.deduplicated.deduplicated.M-bias.txt ...\n",
            "Complete\n",
            "\n",
            "No nucleotide coverage report file specified, skipping this step\n",
            "==============================================================================================================\n",
            "\n",
            "\n"
          ]
        }
      ]
    },
    {
      "cell_type": "markdown",
      "source": [
        "Теперь скачаем отчеты html и проанализируем их на гитхабе"
      ],
      "metadata": {
        "id": "vPGdK8DCIP3a"
      }
    },
    {
      "cell_type": "markdown",
      "source": [
        "### Гистограмма распределения метилирования цитозинов по хромосоме"
      ],
      "metadata": {
        "id": "cA9iWk3DEUGN"
      }
    },
    {
      "cell_type": "code",
      "source": [
        "# распаковываем файл .bedGraph\n",
        "! gunzip /content/drive/MyDrive/bioinfHW1/bismark_methylation_extractor_SRR3824222/SRR3824222_1_bismark_bt2_pe.bam.deduplicated.deduplicated.bedGraph.gz\n",
        "! gunzip /content/drive/MyDrive/bioinfHW1/bismark_methylation_extractor_SRR5836473/SRR5836473_1_bismark_bt2_pe.bam.deduplicated.deduplicated.bedGraph.gz\n",
        "! gunzip /content/drive/MyDrive/bioinfHW1/bismark_methylation_extractor_SRR5836475/SRR5836475_1_bismark_bt2_pe.bam.deduplicated.deduplicated.bedGraph.gz"
      ],
      "metadata": {
        "id": "tI5AUYTPliqA"
      },
      "execution_count": 24,
      "outputs": []
    },
    {
      "cell_type": "code",
      "source": [
        "! head /content/drive/MyDrive/bioinfHW1/bismark_methylation_extractor_SRR3824222/SRR3824222_1_bismark_bt2_pe.bam.deduplicated.deduplicated.bedGraph"
      ],
      "metadata": {
        "colab": {
          "base_uri": "https://localhost:8080/"
        },
        "id": "fcS724jEncto",
        "outputId": "29810f53-bc9c-4d42-9091-51eec7f0b6f1"
      },
      "execution_count": 25,
      "outputs": [
        {
          "output_type": "stream",
          "name": "stdout",
          "text": [
            "track type=bedGraph\n",
            "chr11\t3100030\t3100031\t75\n",
            "chr11\t3100031\t3100032\t100\n",
            "chr11\t3100047\t3100048\t100\n",
            "chr11\t3100048\t3100049\t100\n",
            "chr11\t3100223\t3100224\t96.875\n",
            "chr11\t3100224\t3100225\t93.75\n",
            "chr11\t3100285\t3100286\t93.3333333333333\n",
            "chr11\t3100286\t3100287\t92.3076923076923\n",
            "chr11\t3100309\t3100310\t96.7741935483871\n"
          ]
        }
      ]
    },
    {
      "cell_type": "code",
      "source": [
        "import pandas as pd\n",
        "from matplotlib import pyplot as plt"
      ],
      "metadata": {
        "id": "_Br3iToLPMDJ"
      },
      "execution_count": 28,
      "outputs": []
    },
    {
      "cell_type": "code",
      "source": [
        "# гистограмма\n",
        "data = pd.read_csv('/content/drive/MyDrive/bioinfHW1/bismark_methylation_extractor_SRR5836473/SRR5836473_1_bismark_bt2_pe.bam.deduplicated.deduplicated.bedGraph', \n",
        "                   delimiter='\\t', names=['chr11', 'a', 'b', '%'], skiprows=1)\n",
        "data.head()"
      ],
      "metadata": {
        "colab": {
          "base_uri": "https://localhost:8080/",
          "height": 0
        },
        "id": "cHyeCyG3O_Xq",
        "outputId": "0dfbf530-f787-4409-da3d-fcee930faed7"
      },
      "execution_count": 33,
      "outputs": [
        {
          "output_type": "execute_result",
          "data": {
            "text/html": [
              "\n",
              "  <div id=\"df-6274ebb3-bbaa-465d-896a-209054687b91\">\n",
              "    <div class=\"colab-df-container\">\n",
              "      <div>\n",
              "<style scoped>\n",
              "    .dataframe tbody tr th:only-of-type {\n",
              "        vertical-align: middle;\n",
              "    }\n",
              "\n",
              "    .dataframe tbody tr th {\n",
              "        vertical-align: top;\n",
              "    }\n",
              "\n",
              "    .dataframe thead th {\n",
              "        text-align: right;\n",
              "    }\n",
              "</style>\n",
              "<table border=\"1\" class=\"dataframe\">\n",
              "  <thead>\n",
              "    <tr style=\"text-align: right;\">\n",
              "      <th></th>\n",
              "      <th>chr11</th>\n",
              "      <th>a</th>\n",
              "      <th>b</th>\n",
              "      <th>%</th>\n",
              "    </tr>\n",
              "  </thead>\n",
              "  <tbody>\n",
              "    <tr>\n",
              "      <th>0</th>\n",
              "      <td>chr11</td>\n",
              "      <td>3100030</td>\n",
              "      <td>3100031</td>\n",
              "      <td>50.000000</td>\n",
              "    </tr>\n",
              "    <tr>\n",
              "      <th>1</th>\n",
              "      <td>chr11</td>\n",
              "      <td>3100047</td>\n",
              "      <td>3100048</td>\n",
              "      <td>66.666667</td>\n",
              "    </tr>\n",
              "    <tr>\n",
              "      <th>2</th>\n",
              "      <td>chr11</td>\n",
              "      <td>3100048</td>\n",
              "      <td>3100049</td>\n",
              "      <td>50.000000</td>\n",
              "    </tr>\n",
              "    <tr>\n",
              "      <th>3</th>\n",
              "      <td>chr11</td>\n",
              "      <td>3100223</td>\n",
              "      <td>3100224</td>\n",
              "      <td>87.500000</td>\n",
              "    </tr>\n",
              "    <tr>\n",
              "      <th>4</th>\n",
              "      <td>chr11</td>\n",
              "      <td>3100224</td>\n",
              "      <td>3100225</td>\n",
              "      <td>53.333333</td>\n",
              "    </tr>\n",
              "  </tbody>\n",
              "</table>\n",
              "</div>\n",
              "      <button class=\"colab-df-convert\" onclick=\"convertToInteractive('df-6274ebb3-bbaa-465d-896a-209054687b91')\"\n",
              "              title=\"Convert this dataframe to an interactive table.\"\n",
              "              style=\"display:none;\">\n",
              "        \n",
              "  <svg xmlns=\"http://www.w3.org/2000/svg\" height=\"24px\"viewBox=\"0 0 24 24\"\n",
              "       width=\"24px\">\n",
              "    <path d=\"M0 0h24v24H0V0z\" fill=\"none\"/>\n",
              "    <path d=\"M18.56 5.44l.94 2.06.94-2.06 2.06-.94-2.06-.94-.94-2.06-.94 2.06-2.06.94zm-11 1L8.5 8.5l.94-2.06 2.06-.94-2.06-.94L8.5 2.5l-.94 2.06-2.06.94zm10 10l.94 2.06.94-2.06 2.06-.94-2.06-.94-.94-2.06-.94 2.06-2.06.94z\"/><path d=\"M17.41 7.96l-1.37-1.37c-.4-.4-.92-.59-1.43-.59-.52 0-1.04.2-1.43.59L10.3 9.45l-7.72 7.72c-.78.78-.78 2.05 0 2.83L4 21.41c.39.39.9.59 1.41.59.51 0 1.02-.2 1.41-.59l7.78-7.78 2.81-2.81c.8-.78.8-2.07 0-2.86zM5.41 20L4 18.59l7.72-7.72 1.47 1.35L5.41 20z\"/>\n",
              "  </svg>\n",
              "      </button>\n",
              "      \n",
              "  <style>\n",
              "    .colab-df-container {\n",
              "      display:flex;\n",
              "      flex-wrap:wrap;\n",
              "      gap: 12px;\n",
              "    }\n",
              "\n",
              "    .colab-df-convert {\n",
              "      background-color: #E8F0FE;\n",
              "      border: none;\n",
              "      border-radius: 50%;\n",
              "      cursor: pointer;\n",
              "      display: none;\n",
              "      fill: #1967D2;\n",
              "      height: 32px;\n",
              "      padding: 0 0 0 0;\n",
              "      width: 32px;\n",
              "    }\n",
              "\n",
              "    .colab-df-convert:hover {\n",
              "      background-color: #E2EBFA;\n",
              "      box-shadow: 0px 1px 2px rgba(60, 64, 67, 0.3), 0px 1px 3px 1px rgba(60, 64, 67, 0.15);\n",
              "      fill: #174EA6;\n",
              "    }\n",
              "\n",
              "    [theme=dark] .colab-df-convert {\n",
              "      background-color: #3B4455;\n",
              "      fill: #D2E3FC;\n",
              "    }\n",
              "\n",
              "    [theme=dark] .colab-df-convert:hover {\n",
              "      background-color: #434B5C;\n",
              "      box-shadow: 0px 1px 3px 1px rgba(0, 0, 0, 0.15);\n",
              "      filter: drop-shadow(0px 1px 2px rgba(0, 0, 0, 0.3));\n",
              "      fill: #FFFFFF;\n",
              "    }\n",
              "  </style>\n",
              "\n",
              "      <script>\n",
              "        const buttonEl =\n",
              "          document.querySelector('#df-6274ebb3-bbaa-465d-896a-209054687b91 button.colab-df-convert');\n",
              "        buttonEl.style.display =\n",
              "          google.colab.kernel.accessAllowed ? 'block' : 'none';\n",
              "\n",
              "        async function convertToInteractive(key) {\n",
              "          const element = document.querySelector('#df-6274ebb3-bbaa-465d-896a-209054687b91');\n",
              "          const dataTable =\n",
              "            await google.colab.kernel.invokeFunction('convertToInteractive',\n",
              "                                                     [key], {});\n",
              "          if (!dataTable) return;\n",
              "\n",
              "          const docLinkHtml = 'Like what you see? Visit the ' +\n",
              "            '<a target=\"_blank\" href=https://colab.research.google.com/notebooks/data_table.ipynb>data table notebook</a>'\n",
              "            + ' to learn more about interactive tables.';\n",
              "          element.innerHTML = '';\n",
              "          dataTable['output_type'] = 'display_data';\n",
              "          await google.colab.output.renderOutput(dataTable, element);\n",
              "          const docLink = document.createElement('div');\n",
              "          docLink.innerHTML = docLinkHtml;\n",
              "          element.appendChild(docLink);\n",
              "        }\n",
              "      </script>\n",
              "    </div>\n",
              "  </div>\n",
              "  "
            ],
            "text/plain": [
              "   chr11        a        b          %\n",
              "0  chr11  3100030  3100031  50.000000\n",
              "1  chr11  3100047  3100048  66.666667\n",
              "2  chr11  3100048  3100049  50.000000\n",
              "3  chr11  3100223  3100224  87.500000\n",
              "4  chr11  3100224  3100225  53.333333"
            ]
          },
          "metadata": {},
          "execution_count": 33
        }
      ]
    },
    {
      "cell_type": "code",
      "source": [
        "plt.hist(data['%'], density=True, bins=100)\n",
        "plt.title('8 cell SRR5836473')\n",
        "plt.xlabel('% methylation')\n",
        "plt.ylabel('density')\n",
        "plt.show()"
      ],
      "metadata": {
        "colab": {
          "base_uri": "https://localhost:8080/",
          "height": 0
        },
        "id": "ozG2ZPl5Qukr",
        "outputId": "81b195da-481f-4e64-b797-1a4184ee7edf"
      },
      "execution_count": 38,
      "outputs": [
        {
          "output_type": "display_data",
          "data": {
            "image/png": "[encoded data removed]",
            "text/plain": [
              "<Figure size 432x288 with 1 Axes>"
            ]
          },
          "metadata": {
            "needs_background": "light"
          }
        }
      ]
    },
    {
      "cell_type": "code",
      "source": [
        "# гистограмма\n",
        "data = pd.read_csv('/content/drive/MyDrive/bioinfHW1/bismark_methylation_extractor_SRR3824222/SRR3824222_1_bismark_bt2_pe.bam.deduplicated.deduplicated.bedGraph', \n",
        "                   delimiter='\\t', names=['chr11', 'a', 'b', '%'], skiprows=1)\n",
        "plt.hist(data['%'], density=True, bins=100)\n",
        "plt.title('Epiblast SRR3824222')\n",
        "plt.xlabel('% methylation')\n",
        "plt.ylabel('density')\n",
        "plt.show()"
      ],
      "metadata": {
        "colab": {
          "base_uri": "https://localhost:8080/",
          "height": 0
        },
        "id": "ByZxFKlnRdGV",
        "outputId": "a65fc961-f994-41a2-ff67-c152c6214a96"
      },
      "execution_count": 39,
      "outputs": [
        {
          "output_type": "display_data",
          "data": {
            "image/png": "[encoded data removed]",
            "text/plain": [
              "<Figure size 432x288 with 1 Axes>"
            ]
          },
          "metadata": {
            "needs_background": "light"
          }
        }
      ]
    },
    {
      "cell_type": "code",
      "source": [
        "# гистограмма\n",
        "data = pd.read_csv('/content/drive/MyDrive/bioinfHW1/bismark_methylation_extractor_SRR5836475/SRR5836475_1_bismark_bt2_pe.bam.deduplicated.deduplicated.bedGraph', \n",
        "                   delimiter='\\t', names=['chr11', 'a', 'b', '%'], skiprows=1)\n",
        "plt.hist(data['%'], density=True, bins=100)\n",
        "plt.title('ICM SRR5836475')\n",
        "plt.xlabel('% methylation')\n",
        "plt.ylabel('density')\n",
        "plt.show()"
      ],
      "metadata": {
        "colab": {
          "base_uri": "https://localhost:8080/",
          "height": 0
        },
        "id": "CgCr2t1yRtZm",
        "outputId": "634dad0d-032b-4da9-ab05-802cc7d280ba"
      },
      "execution_count": 40,
      "outputs": [
        {
          "output_type": "display_data",
          "data": {
            "image/png": "[encoded data removed]",
            "text/plain": [
              "<Figure size 432x288 with 1 Axes>"
            ]
          },
          "metadata": {
            "needs_background": "light"
          }
        }
      ]
    },
    {
      "cell_type": "markdown",
      "source": [
        "### Уровень метилирования и покрытия для каждого образца"
      ],
      "metadata": {
        "id": "eVG-rfN3V_7x"
      }
    },
    {
      "cell_type": "markdown",
      "source": [
        "#### Установка"
      ],
      "metadata": {
        "id": "KKxH9hj2Xtzd"
      }
    },
    {
      "cell_type": "code",
      "execution_count": 2,
      "metadata": {
        "colab": {
          "base_uri": "https://localhost:8080/",
          "height": 0
        },
        "id": "b6k9REsM6NXn",
        "outputId": "73421e7b-a6dd-4e59-9776-79e4ea777c5c"
      },
      "outputs": [
        {
          "output_type": "stream",
          "name": "stdout",
          "text": [
            "Collecting pyGenomeTracks\n",
            "  Using cached pyGenomeTracks-3.6-py2.py3-none-any.whl (94 kB)\n",
            "Collecting pyBigWig>=0.3.16\n",
            "  Using cached pyBigWig-0.3.18-cp37-cp37m-linux_x86_64.whl\n",
            "Requirement already satisfied: tqdm>=4.20 in /usr/local/lib/python3.7/site-packages (from pyGenomeTracks) (4.59.0)\n",
            "Collecting pysam>=0.14\n",
            "  Using cached pysam-0.18.0-cp37-cp37m-manylinux_2_12_x86_64.manylinux2010_x86_64.whl (14.9 MB)\n",
            "Collecting pytest\n",
            "  Downloading pytest-7.0.1-py3-none-any.whl (296 kB)\n",
            "\u001b[K     |████████████████████████████████| 296 kB 5.3 MB/s \n",
            "\u001b[?25hCollecting numpy>=1.16\n",
            "  Downloading numpy-1.21.5-cp37-cp37m-manylinux_2_12_x86_64.manylinux2010_x86_64.whl (15.7 MB)\n",
            "\u001b[K     |████████████████████████████████| 15.7 MB 56.6 MB/s \n",
            "\u001b[?25hCollecting gffutils>=0.9\n",
            "  Using cached gffutils-0.10.1-py3-none-any.whl\n",
            "Collecting pybedtools>=0.8.1\n",
            "  Using cached pybedtools-0.9.0-cp37-cp37m-linux_x86_64.whl\n",
            "Collecting future>=0.17.0\n",
            "  Using cached future-0.18.2-py3-none-any.whl\n",
            "Collecting matplotlib<=3.3.2,>=3.1.1\n",
            "  Downloading matplotlib-3.3.2-cp37-cp37m-manylinux1_x86_64.whl (11.6 MB)\n",
            "\u001b[K     |████████████████████████████████| 11.6 MB 41.6 MB/s \n",
            "\u001b[?25hCollecting hicmatrix>=15\n",
            "  Using cached HiCMatrix-15-py3-none-any.whl (37 kB)\n",
            "Collecting intervaltree>=2.1.0\n",
            "  Using cached intervaltree-3.1.0-py2.py3-none-any.whl\n",
            "Collecting argcomplete>=1.9.4\n",
            "  Using cached argcomplete-2.0.0-py2.py3-none-any.whl (37 kB)\n",
            "Requirement already satisfied: six>=1.12.0 in /usr/local/lib/python3.7/site-packages (from gffutils>=0.9->pyGenomeTracks) (1.15.0)\n",
            "Collecting simplejson\n",
            "  Using cached simplejson-3.17.6-cp37-cp37m-manylinux_2_5_x86_64.manylinux1_x86_64.manylinux_2_12_x86_64.manylinux2010_x86_64.whl (130 kB)\n",
            "Collecting pyfaidx>=0.5.5.2\n",
            "  Using cached pyfaidx-0.6.4-py3-none-any.whl\n",
            "Collecting argh>=0.26.2\n",
            "  Using cached argh-0.26.2-py2.py3-none-any.whl (30 kB)\n",
            "Collecting importlib-metadata<5,>=0.23\n",
            "  Downloading importlib_metadata-4.11.1-py3-none-any.whl (17 kB)\n",
            "Collecting scipy>=1.2.*\n",
            "  Downloading scipy-1.7.3-cp37-cp37m-manylinux_2_12_x86_64.manylinux2010_x86_64.whl (38.1 MB)\n",
            "\u001b[K     |████████████████████████████████| 38.1 MB 1.1 MB/s \n",
            "\u001b[?25hCollecting tables>=3.5.*\n",
            "  Downloading tables-3.7.0-cp37-cp37m-manylinux_2_17_x86_64.manylinux2014_x86_64.whl (5.9 MB)\n",
            "\u001b[K     |████████████████████████████████| 5.9 MB 32.3 MB/s \n",
            "\u001b[?25hCollecting pandas>=0.25.*\n",
            "  Downloading pandas-1.3.5-cp37-cp37m-manylinux_2_17_x86_64.manylinux2014_x86_64.whl (11.3 MB)\n",
            "\u001b[K     |████████████████████████████████| 11.3 MB 30.1 MB/s \n",
            "\u001b[?25hCollecting cooler>=0.8.9\n",
            "  Using cached cooler-0.8.11-py2.py3-none-any.whl (100 kB)\n",
            "Collecting asciitree\n",
            "  Using cached asciitree-0.3.3-py3-none-any.whl\n",
            "Collecting h5py>=2.5\n",
            "  Downloading h5py-3.6.0-cp37-cp37m-manylinux_2_12_x86_64.manylinux2010_x86_64.whl (4.1 MB)\n",
            "\u001b[K     |████████████████████████████████| 4.1 MB 25.3 MB/s \n",
            "\u001b[?25hCollecting cytoolz<0.11\n",
            "  Using cached cytoolz-0.10.1-cp37-cp37m-linux_x86_64.whl\n",
            "Collecting pypairix\n",
            "  Using cached pypairix-0.3.7-cp37-cp37m-linux_x86_64.whl\n",
            "Collecting pyyaml\n",
            "  Downloading PyYAML-6.0-cp37-cp37m-manylinux_2_5_x86_64.manylinux1_x86_64.manylinux_2_12_x86_64.manylinux2010_x86_64.whl (596 kB)\n",
            "\u001b[K     |████████████████████████████████| 596 kB 52.1 MB/s \n",
            "\u001b[?25hCollecting click>=7\n",
            "  Downloading click-8.0.3-py3-none-any.whl (97 kB)\n",
            "\u001b[K     |████████████████████████████████| 97 kB 4.9 MB/s \n",
            "\u001b[?25hCollecting multiprocess\n",
            "  Downloading multiprocess-0.70.12.2-py37-none-any.whl (112 kB)\n",
            "\u001b[K     |████████████████████████████████| 112 kB 54.9 MB/s \n",
            "\u001b[?25hCollecting toolz>=0.8.0\n",
            "  Downloading toolz-0.11.2-py3-none-any.whl (55 kB)\n",
            "\u001b[K     |████████████████████████████████| 55 kB 2.9 MB/s \n",
            "\u001b[?25hCollecting cached-property\n",
            "  Downloading cached_property-1.5.2-py2.py3-none-any.whl (7.6 kB)\n",
            "Collecting zipp>=0.5\n",
            "  Downloading zipp-3.7.0-py3-none-any.whl (5.3 kB)\n",
            "Collecting typing-extensions>=3.6.4\n",
            "  Downloading typing_extensions-4.1.1-py3-none-any.whl (26 kB)\n",
            "Collecting sortedcontainers<3.0,>=2.0\n",
            "  Downloading sortedcontainers-2.4.0-py2.py3-none-any.whl (29 kB)\n",
            "Collecting pyparsing!=2.0.4,!=2.1.2,!=2.1.6,>=2.0.3\n",
            "  Downloading pyparsing-3.0.7-py3-none-any.whl (98 kB)\n",
            "\u001b[K     |████████████████████████████████| 98 kB 5.8 MB/s \n",
            "\u001b[?25hRequirement already satisfied: certifi>=2020.06.20 in /usr/local/lib/python3.7/site-packages (from matplotlib<=3.3.2,>=3.1.1->pyGenomeTracks) (2021.10.8)\n",
            "Collecting python-dateutil>=2.1\n",
            "  Downloading python_dateutil-2.8.2-py2.py3-none-any.whl (247 kB)\n",
            "\u001b[K     |████████████████████████████████| 247 kB 48.4 MB/s \n",
            "\u001b[?25hCollecting kiwisolver>=1.0.1\n",
            "  Downloading kiwisolver-1.3.2-cp37-cp37m-manylinux_2_5_x86_64.manylinux1_x86_64.whl (1.1 MB)\n",
            "\u001b[K     |████████████████████████████████| 1.1 MB 63.3 MB/s \n",
            "\u001b[?25hCollecting cycler>=0.10\n",
            "  Downloading cycler-0.11.0-py3-none-any.whl (6.4 kB)\n",
            "Collecting pillow>=6.2.0\n",
            "  Downloading Pillow-9.0.1-cp37-cp37m-manylinux_2_17_x86_64.manylinux2014_x86_64.whl (4.3 MB)\n",
            "\u001b[K     |████████████████████████████████| 4.3 MB 35.3 MB/s \n",
            "\u001b[?25hCollecting pytz>=2017.3\n",
            "  Downloading pytz-2021.3-py2.py3-none-any.whl (503 kB)\n",
            "\u001b[K     |████████████████████████████████| 503 kB 50.3 MB/s \n",
            "\u001b[?25hRequirement already satisfied: setuptools>=0.7 in /usr/local/lib/python3.7/site-packages (from pyfaidx>=0.5.5.2->gffutils>=0.9->pyGenomeTracks) (49.6.0.post20210108)\n",
            "Collecting numexpr>=2.6.2\n",
            "  Downloading numexpr-2.8.1-cp37-cp37m-manylinux_2_17_x86_64.manylinux2014_x86_64.whl (379 kB)\n",
            "\u001b[K     |████████████████████████████████| 379 kB 54.3 MB/s \n",
            "\u001b[?25hCollecting packaging\n",
            "  Downloading packaging-21.3-py3-none-any.whl (40 kB)\n",
            "\u001b[K     |████████████████████████████████| 40 kB 5.4 MB/s \n",
            "\u001b[?25hCollecting dill>=0.3.4\n",
            "  Downloading dill-0.3.4-py2.py3-none-any.whl (86 kB)\n",
            "\u001b[K     |████████████████████████████████| 86 kB 4.8 MB/s \n",
            "\u001b[?25hCollecting tomli>=1.0.0\n",
            "  Downloading tomli-2.0.1-py3-none-any.whl (12 kB)\n",
            "Collecting py>=1.8.2\n",
            "  Downloading py-1.11.0-py2.py3-none-any.whl (98 kB)\n",
            "\u001b[K     |████████████████████████████████| 98 kB 6.1 MB/s \n",
            "\u001b[?25hCollecting iniconfig\n",
            "  Downloading iniconfig-1.1.1-py2.py3-none-any.whl (5.0 kB)\n",
            "Collecting attrs>=19.2.0\n",
            "  Downloading attrs-21.4.0-py2.py3-none-any.whl (60 kB)\n",
            "\u001b[K     |████████████████████████████████| 60 kB 4.5 MB/s \n",
            "\u001b[?25hCollecting pluggy<2.0,>=0.12\n",
            "  Downloading pluggy-1.0.0-py2.py3-none-any.whl (13 kB)\n",
            "Installing collected packages: zipp, typing-extensions, pyparsing, toolz, pytz, python-dateutil, packaging, numpy, importlib-metadata, dill, cached-property, sortedcontainers, simplejson, scipy, pyyaml, pypairix, pyfaidx, pandas, numexpr, multiprocess, h5py, cytoolz, click, asciitree, tomli, tables, pysam, py, pluggy, pillow, kiwisolver, intervaltree, iniconfig, cycler, cooler, attrs, argh, argcomplete, pytest, pyBigWig, pybedtools, matplotlib, hicmatrix, gffutils, future, pyGenomeTracks\n",
            "Successfully installed argcomplete-2.0.0 argh-0.26.2 asciitree-0.3.3 attrs-21.4.0 cached-property-1.5.2 click-8.0.3 cooler-0.8.11 cycler-0.11.0 cytoolz-0.10.1 dill-0.3.4 future-0.18.2 gffutils-0.10.1 h5py-3.6.0 hicmatrix-15 importlib-metadata-4.11.1 iniconfig-1.1.1 intervaltree-3.1.0 kiwisolver-1.3.2 matplotlib-3.3.2 multiprocess-0.70.12.2 numexpr-2.8.1 numpy-1.21.5 packaging-21.3 pandas-1.3.5 pillow-9.0.1 pluggy-1.0.0 py-1.11.0 pyBigWig-0.3.18 pyGenomeTracks-3.6 pybedtools-0.9.0 pyfaidx-0.6.4 pypairix-0.3.7 pyparsing-3.0.7 pysam-0.18.0 pytest-7.0.1 python-dateutil-2.8.2 pytz-2021.3 pyyaml-6.0 scipy-1.7.3 simplejson-3.17.6 sortedcontainers-2.4.0 tables-3.7.0 tomli-2.0.1 toolz-0.11.2 typing-extensions-4.1.1 zipp-3.7.0\n"
          ]
        },
        {
          "output_type": "display_data",
          "data": {
            "application/vnd.colab-display-data+json": {
              "pip_warning": {
                "packages": [
                  "cycler",
                  "dateutil",
                  "kiwisolver",
                  "numexpr",
                  "numpy",
                  "packaging",
                  "pandas",
                  "pyparsing"
                ]
              }
            }
          },
          "metadata": {}
        }
      ],
      "source": [
        "! pip install pyGenomeTracks"
      ]
    },
    {
      "cell_type": "code",
      "source": [
        "!pip install -U ipykernel\n"
      ],
      "metadata": {
        "colab": {
          "base_uri": "https://localhost:8080/",
          "height": 0
        },
        "id": "fcsJWNmHo1i-",
        "outputId": "eaaad1cc-4cef-448b-db19-05880672529a"
      },
      "execution_count": 3,
      "outputs": [
        {
          "output_type": "stream",
          "name": "stdout",
          "text": [
            "Collecting ipykernel\n",
            "  Using cached ipykernel-6.9.1-py3-none-any.whl (128 kB)\n",
            "Collecting ipython>=7.23.1\n",
            "  Using cached ipython-7.31.1-py3-none-any.whl (792 kB)\n",
            "Collecting tornado<7.0,>=4.2\n",
            "  Downloading tornado-6.1-cp37-cp37m-manylinux2010_x86_64.whl (428 kB)\n",
            "\u001b[K     |████████████████████████████████| 428 kB 5.3 MB/s \n",
            "\u001b[?25hCollecting debugpy<2.0,>=1.0.0\n",
            "  Downloading debugpy-1.5.1-cp37-cp37m-manylinux_2_5_x86_64.manylinux1_x86_64.manylinux_2_12_x86_64.manylinux2010_x86_64.whl (1.9 MB)\n",
            "\u001b[K     |████████████████████████████████| 1.9 MB 49.4 MB/s \n",
            "\u001b[?25hCollecting matplotlib-inline<0.2.0,>=0.1.0\n",
            "  Downloading matplotlib_inline-0.1.3-py3-none-any.whl (8.2 kB)\n",
            "Collecting traitlets<6.0,>=5.1.0\n",
            "  Downloading traitlets-5.1.1-py3-none-any.whl (102 kB)\n",
            "\u001b[K     |████████████████████████████████| 102 kB 7.5 MB/s \n",
            "\u001b[?25hCollecting nest-asyncio\n",
            "  Downloading nest_asyncio-1.5.4-py3-none-any.whl (5.1 kB)\n",
            "Collecting jupyter-client<8.0\n",
            "  Downloading jupyter_client-7.1.2-py3-none-any.whl (130 kB)\n",
            "\u001b[K     |████████████████████████████████| 130 kB 39.0 MB/s \n",
            "\u001b[?25hCollecting pygments\n",
            "  Downloading Pygments-2.11.2-py3-none-any.whl (1.1 MB)\n",
            "\u001b[K     |████████████████████████████████| 1.1 MB 49.5 MB/s \n",
            "\u001b[?25hRequirement already satisfied: setuptools>=18.5 in /usr/local/lib/python3.7/site-packages (from ipython>=7.23.1->ipykernel) (49.6.0.post20210108)\n",
            "Collecting backcall\n",
            "  Downloading backcall-0.2.0-py2.py3-none-any.whl (11 kB)\n",
            "Collecting pickleshare\n",
            "  Downloading pickleshare-0.7.5-py2.py3-none-any.whl (6.9 kB)\n",
            "Collecting decorator\n",
            "  Downloading decorator-5.1.1-py3-none-any.whl (9.1 kB)\n",
            "Collecting pexpect>4.3\n",
            "  Downloading pexpect-4.8.0-py2.py3-none-any.whl (59 kB)\n",
            "\u001b[K     |████████████████████████████████| 59 kB 5.6 MB/s \n",
            "\u001b[?25hCollecting jedi>=0.16\n",
            "  Downloading jedi-0.18.1-py2.py3-none-any.whl (1.6 MB)\n",
            "\u001b[K     |████████████████████████████████| 1.6 MB 28.0 MB/s \n",
            "\u001b[?25hCollecting prompt-toolkit!=3.0.0,!=3.0.1,<3.1.0,>=2.0.0\n",
            "  Using cached prompt_toolkit-3.0.28-py3-none-any.whl (380 kB)\n",
            "Collecting parso<0.9.0,>=0.8.0\n",
            "  Downloading parso-0.8.3-py2.py3-none-any.whl (100 kB)\n",
            "\u001b[K     |████████████████████████████████| 100 kB 7.3 MB/s \n",
            "\u001b[?25hCollecting pyzmq>=13\n",
            "  Downloading pyzmq-22.3.0-cp37-cp37m-manylinux_2_5_x86_64.manylinux1_x86_64.whl (1.1 MB)\n",
            "\u001b[K     |████████████████████████████████| 1.1 MB 42.2 MB/s \n",
            "\u001b[?25hCollecting entrypoints\n",
            "  Downloading entrypoints-0.4-py3-none-any.whl (5.3 kB)\n",
            "Collecting jupyter-core>=4.6.0\n",
            "  Downloading jupyter_core-4.9.2-py3-none-any.whl (86 kB)\n",
            "\u001b[K     |████████████████████████████████| 86 kB 4.3 MB/s \n",
            "\u001b[?25hRequirement already satisfied: python-dateutil>=2.1 in /usr/local/lib/python3.7/site-packages (from jupyter-client<8.0->ipykernel) (2.8.2)\n",
            "Collecting ptyprocess>=0.5\n",
            "  Downloading ptyprocess-0.7.0-py2.py3-none-any.whl (13 kB)\n",
            "Collecting wcwidth\n",
            "  Downloading wcwidth-0.2.5-py2.py3-none-any.whl (30 kB)\n",
            "Requirement already satisfied: six>=1.5 in /usr/local/lib/python3.7/site-packages (from python-dateutil>=2.1->jupyter-client<8.0->ipykernel) (1.15.0)\n",
            "Installing collected packages: wcwidth, traitlets, ptyprocess, parso, tornado, pyzmq, pygments, prompt-toolkit, pickleshare, pexpect, nest-asyncio, matplotlib-inline, jupyter-core, jedi, entrypoints, decorator, backcall, jupyter-client, ipython, debugpy, ipykernel\n",
            "Successfully installed backcall-0.2.0 debugpy-1.5.1 decorator-5.1.1 entrypoints-0.4 ipykernel-6.9.1 ipython-7.31.1 jedi-0.18.1 jupyter-client-7.1.2 jupyter-core-4.9.2 matplotlib-inline-0.1.3 nest-asyncio-1.5.4 parso-0.8.3 pexpect-4.8.0 pickleshare-0.7.5 prompt-toolkit-3.0.28 ptyprocess-0.7.0 pygments-2.11.2 pyzmq-22.3.0 tornado-6.1 traitlets-5.1.1 wcwidth-0.2.5\n"
          ]
        },
        {
          "output_type": "display_data",
          "data": {
            "application/vnd.colab-display-data+json": {
              "pip_warning": {
                "packages": [
                  "IPython",
                  "ipykernel",
                  "jedi",
                  "matplotlib_inline",
                  "parso",
                  "pexpect",
                  "pickleshare",
                  "prompt_toolkit",
                  "traitlets",
                  "wcwidth",
                  "zmq"
                ]
              }
            }
          },
          "metadata": {}
        }
      ]
    },
    {
      "cell_type": "code",
      "source": [
        "! conda install -c bioconda ucsc-fetchchromsizes"
      ],
      "metadata": {
        "colab": {
          "base_uri": "https://localhost:8080/"
        },
        "id": "UhIKyKz_t7yy",
        "outputId": "0f2217e6-7158-4387-ace2-aa6336393e50"
      },
      "execution_count": 4,
      "outputs": [
        {
          "output_type": "stream",
          "name": "stdout",
          "text": [
            "Collecting package metadata (current_repodata.json): - \b\b\\ \b\b| \b\b/ \b\b- \b\b\\ \b\b| \b\b/ \b\b- \b\b\\ \b\b| \b\b/ \b\b- \b\b\\ \b\b| \b\b/ \b\b- \b\b\\ \b\b| \b\b/ \b\b- \b\b\\ \b\b| \b\b/ \b\b- \b\b\\ \b\b| \b\b/ \b\b- \b\b\\ \b\b| \b\b/ \b\b- \b\bdone\n",
            "Solving environment: | \b\b/ \b\b- \b\b\\ \b\b| \b\b/ \b\b- \b\b\\ \b\b| \b\b/ \b\b- \b\b\\ \b\b| \b\b/ \b\b- \b\b\\ \b\b| \b\b/ \b\b- \b\b\\ \b\b| \b\b/ \b\b- \b\b\\ \b\bdone\n",
            "\n",
            "## Package Plan ##\n",
            "\n",
            "  environment location: /usr/local\n",
            "\n",
            "  added / updated specs:\n",
            "    - ucsc-fetchchromsizes\n",
            "\n",
            "\n",
            "The following packages will be downloaded:\n",
            "\n",
            "    package                    |            build\n",
            "    ---------------------------|-----------------\n",
            "    libpng-1.6.37              |       h21135ba_2         306 KB  conda-forge\n",
            "    libuuid-2.32.1             |    h7f98852_1000          28 KB  conda-forge\n",
            "    mysql-connector-c-6.1.11   |    h6eb9d5d_1007         2.7 MB  conda-forge\n",
            "    ucsc-fetchchromsizes-377   |       h0b8a92a_2           7 KB  bioconda\n",
            "    ------------------------------------------------------------\n",
            "                                           Total:         3.0 MB\n",
            "\n",
            "The following NEW packages will be INSTALLED:\n",
            "\n",
            "  libpng             conda-forge/linux-64::libpng-1.6.37-h21135ba_2\n",
            "  libuuid            conda-forge/linux-64::libuuid-2.32.1-h7f98852_1000\n",
            "  mysql-connector-c  conda-forge/linux-64::mysql-connector-c-6.1.11-h6eb9d5d_1007\n",
            "  ucsc-fetchchromsi~ bioconda/linux-64::ucsc-fetchchromsizes-377-h0b8a92a_2\n",
            "\n",
            "\n",
            "\n",
            "Downloading and Extracting Packages\n",
            "libpng-1.6.37        | 306 KB    | : 100% 1.0/1 [00:00<00:00,  3.24it/s]\n",
            "mysql-connector-c-6. | 2.7 MB    | : 100% 1.0/1 [00:01<00:00,  1.14s/it]               \n",
            "libuuid-2.32.1       | 28 KB     | : 100% 1.0/1 [00:00<00:00, 16.68it/s]\n",
            "ucsc-fetchchromsizes | 7 KB      | : 100% 1.0/1 [00:00<00:00, 15.15it/s]\n",
            "Preparing transaction: / \b\bdone\n",
            "Verifying transaction: \\ \b\b| \b\b/ \b\b- \b\bdone\n",
            "Executing transaction: | \b\bdone\n"
          ]
        }
      ]
    },
    {
      "cell_type": "code",
      "source": [
        "! fetchChromSizes mm10 > m.chrom.sizes"
      ],
      "metadata": {
        "colab": {
          "base_uri": "https://localhost:8080/"
        },
        "id": "LZpspVUvt4EY",
        "outputId": "828ea280-480f-44ea-9bdd-dd4427a5a934"
      },
      "execution_count": 5,
      "outputs": [
        {
          "output_type": "stream",
          "name": "stdout",
          "text": [
            "INFO: trying CURL  for database mm10\n",
            "url: http://hgdownload.soe.ucsc.edu/goldenPath/mm10/bigZips/mm10.chrom.sizes\n"
          ]
        }
      ]
    },
    {
      "cell_type": "code",
      "source": [
        "! conda install -c bioconda ucsc-bedgraphtobigwig"
      ],
      "metadata": {
        "colab": {
          "base_uri": "https://localhost:8080/"
        },
        "id": "svn9iAuGtVxX",
        "outputId": "d3aa1ed3-d9cd-4f83-9a22-96f66f3ed11a"
      },
      "execution_count": 6,
      "outputs": [
        {
          "output_type": "stream",
          "name": "stdout",
          "text": [
            "Collecting package metadata (current_repodata.json): - \b\b\\ \b\b| \b\b/ \b\b- \b\b\\ \b\b| \b\b/ \b\b- \b\b\\ \b\b| \b\b/ \b\b- \b\b\\ \b\b| \b\b/ \b\b- \b\b\\ \b\b| \b\b/ \b\b- \b\b\\ \b\b| \b\b/ \b\b- \b\b\\ \b\b| \b\b/ \b\b- \b\b\\ \b\b| \b\b/ \b\b- \b\b\\ \b\b| \b\b/ \b\b- \b\b\\ \b\bdone\n",
            "Solving environment: / \b\b- \b\b\\ \b\b| \b\b/ \b\b- \b\b\\ \b\b| \b\b/ \b\b- \b\b\\ \b\b| \b\b/ \b\b- \b\b\\ \b\b| \b\b/ \b\b- \b\b\\ \b\bdone\n",
            "\n",
            "## Package Plan ##\n",
            "\n",
            "  environment location: /usr/local\n",
            "\n",
            "  added / updated specs:\n",
            "    - ucsc-bedgraphtobigwig\n",
            "\n",
            "\n",
            "The following packages will be downloaded:\n",
            "\n",
            "    package                    |            build\n",
            "    ---------------------------|-----------------\n",
            "    ucsc-bedgraphtobigwig-377  |       h446ed27_1         321 KB  bioconda\n",
            "    ------------------------------------------------------------\n",
            "                                           Total:         321 KB\n",
            "\n",
            "The following NEW packages will be INSTALLED:\n",
            "\n",
            "  ucsc-bedgraphtobi~ bioconda/linux-64::ucsc-bedgraphtobigwig-377-h446ed27_1\n",
            "\n",
            "\n",
            "\n",
            "Downloading and Extracting Packages\n",
            "ucsc-bedgraphtobigwi | 321 KB    | : 100% 1.0/1 [00:00<00:00,  4.30it/s]                \n",
            "Preparing transaction: / \b\bdone\n",
            "Verifying transaction: \\ \b\bdone\n",
            "Executing transaction: / \b\bdone\n"
          ]
        }
      ]
    },
    {
      "cell_type": "code",
      "source": [
        "! apt-get install bedtools"
      ],
      "metadata": {
        "colab": {
          "base_uri": "https://localhost:8080/"
        },
        "id": "XEWV8p4ku-Hy",
        "outputId": "9450e9a2-4eb4-40d8-df9e-072d17a57e16"
      },
      "execution_count": 7,
      "outputs": [
        {
          "output_type": "stream",
          "name": "stdout",
          "text": [
            "Reading package lists... Done\n",
            "Building dependency tree       \n",
            "Reading state information... Done\n",
            "bedtools is already the newest version (2.26.0+dfsg-5).\n",
            "The following packages were automatically installed and are no longer required:\n",
            "  cuda-command-line-tools-10-0 cuda-command-line-tools-10-1\n",
            "  cuda-command-line-tools-11-0 cuda-compiler-10-0 cuda-compiler-10-1\n",
            "  cuda-compiler-11-0 cuda-cuobjdump-10-0 cuda-cuobjdump-10-1\n",
            "  cuda-cuobjdump-11-0 cuda-cupti-10-0 cuda-cupti-10-1 cuda-cupti-11-0\n",
            "  cuda-cupti-dev-11-0 cuda-documentation-10-0 cuda-documentation-10-1\n",
            "  cuda-documentation-11-0 cuda-documentation-11-1 cuda-gdb-10-0 cuda-gdb-10-1\n",
            "  cuda-gdb-11-0 cuda-gpu-library-advisor-10-0 cuda-gpu-library-advisor-10-1\n",
            "  cuda-libraries-10-0 cuda-libraries-10-1 cuda-libraries-11-0\n",
            "  cuda-memcheck-10-0 cuda-memcheck-10-1 cuda-memcheck-11-0 cuda-nsight-10-0\n",
            "  cuda-nsight-10-1 cuda-nsight-11-0 cuda-nsight-11-1 cuda-nsight-compute-10-0\n",
            "  cuda-nsight-compute-10-1 cuda-nsight-compute-11-0 cuda-nsight-compute-11-1\n",
            "  cuda-nsight-systems-10-1 cuda-nsight-systems-11-0 cuda-nsight-systems-11-1\n",
            "  cuda-nvcc-10-0 cuda-nvcc-10-1 cuda-nvcc-11-0 cuda-nvdisasm-10-0\n",
            "  cuda-nvdisasm-10-1 cuda-nvdisasm-11-0 cuda-nvml-dev-10-0 cuda-nvml-dev-10-1\n",
            "  cuda-nvml-dev-11-0 cuda-nvprof-10-0 cuda-nvprof-10-1 cuda-nvprof-11-0\n",
            "  cuda-nvprune-10-0 cuda-nvprune-10-1 cuda-nvprune-11-0 cuda-nvtx-10-0\n",
            "  cuda-nvtx-10-1 cuda-nvtx-11-0 cuda-nvvp-10-0 cuda-nvvp-10-1 cuda-nvvp-11-0\n",
            "  cuda-nvvp-11-1 cuda-samples-10-0 cuda-samples-10-1 cuda-samples-11-0\n",
            "  cuda-samples-11-1 cuda-sanitizer-11-0 cuda-sanitizer-api-10-1\n",
            "  cuda-toolkit-10-0 cuda-toolkit-10-1 cuda-toolkit-11-0 cuda-toolkit-11-1\n",
            "  cuda-tools-10-0 cuda-tools-10-1 cuda-tools-11-0 cuda-tools-11-1\n",
            "  cuda-visual-tools-10-0 cuda-visual-tools-10-1 cuda-visual-tools-11-0\n",
            "  cuda-visual-tools-11-1 default-jre dkms freeglut3 freeglut3-dev\n",
            "  keyboard-configuration libargon2-0 libcap2 libcryptsetup12\n",
            "  libdevmapper1.02.1 libfontenc1 libidn11 libip4tc0 libjansson4\n",
            "  libnvidia-cfg1-510 libnvidia-common-460 libnvidia-common-510\n",
            "  libnvidia-extra-510 libnvidia-fbc1-510 libnvidia-gl-510 libpam-systemd\n",
            "  libpolkit-agent-1-0 libpolkit-backend-1-0 libpolkit-gobject-1-0 libxfont2\n",
            "  libxi-dev libxkbfile1 libxmu-dev libxmu-headers libxnvctrl0 libxtst6\n",
            "  nsight-compute-2020.2.1 nsight-compute-2022.1.0 nsight-systems-2020.3.2\n",
            "  nsight-systems-2020.3.4 nsight-systems-2021.5.2 nvidia-dkms-510\n",
            "  nvidia-kernel-common-510 nvidia-kernel-source-510 nvidia-modprobe\n",
            "  nvidia-settings openjdk-11-jre policykit-1 policykit-1-gnome python3-xkit\n",
            "  screen-resolution-extra systemd systemd-sysv udev x11-xkb-utils\n",
            "  xserver-common xserver-xorg-core-hwe-18.04 xserver-xorg-video-nvidia-510\n",
            "Use 'apt autoremove' to remove them.\n",
            "0 upgraded, 0 newly installed, 0 to remove and 39 not upgraded.\n"
          ]
        }
      ]
    },
    {
      "cell_type": "markdown",
      "source": [
        "#### Графики"
      ],
      "metadata": {
        "id": "lRmC5U7uYMYW"
      }
    },
    {
      "cell_type": "code",
      "source": [
        "! bedtools genomecov -bg -ibam /content/drive/MyDrive/bioinfHW1/SRR5836473_1_bismark_bt2_pe.bam.deduplicated.deduplicated.bam -g m.chromSizes  >  s_8_cell.cover.bedGraph"
      ],
      "metadata": {
        "id": "ofhSsnSqvBbu"
      },
      "execution_count": 9,
      "outputs": []
    },
    {
      "cell_type": "code",
      "source": [
        "! bedtools genomecov -bg -ibam /content/drive/MyDrive/bioinfHW1/SRR3824222_1_bismark_bt2_pe.bam.deduplicated.deduplicated.bam -g m.chromSizes  >  epiblast.cover.bedGraph"
      ],
      "metadata": {
        "id": "RApBqncGeC9R"
      },
      "execution_count": 10,
      "outputs": []
    },
    {
      "cell_type": "code",
      "source": [
        "! bedtools genomecov -bg -ibam /content/drive/MyDrive/bioinfHW1/SRR5836475_1_bismark_bt2_pe.bam.deduplicated.deduplicated.bam -g m.chromSizes  >  icm.cover.bedGraph"
      ],
      "metadata": {
        "id": "Zz3NZyN2e58y"
      },
      "execution_count": 11,
      "outputs": []
    },
    {
      "cell_type": "code",
      "source": [
        "! bedGraphToBigWig   s_8_cell.cover.bedGraph m.chrom.sizes cell8_coverage.bigWig"
      ],
      "metadata": {
        "id": "RLpT4wFCvr29"
      },
      "execution_count": 12,
      "outputs": []
    },
    {
      "cell_type": "code",
      "source": [
        "! bedGraphToBigWig   epiblast.cover.bedGraph m.chrom.sizes epiblast_coverage.bigWig"
      ],
      "metadata": {
        "id": "aZ9qYZr7hkPg"
      },
      "execution_count": 13,
      "outputs": []
    },
    {
      "cell_type": "code",
      "source": [
        "! bedGraphToBigWig   icm.cover.bedGraph m.chrom.sizes icm_coverage.bigWig"
      ],
      "metadata": {
        "id": "D-Z5Ply2hntS"
      },
      "execution_count": 14,
      "outputs": []
    },
    {
      "cell_type": "code",
      "source": [
        "! mv cell8_coverage.bigWig cell8_coverage.bigWig.bw\n",
        "! mv epiblast_coverage.bigWig epiblast_coverage.bigWig.bw\n",
        "! mv icm_coverage.bigWig icm_coverage.bigWig.bw"
      ],
      "metadata": {
        "id": "buoEJpxTpua4"
      },
      "execution_count": 15,
      "outputs": []
    },
    {
      "cell_type": "code",
      "source": [
        "! bedGraphToBigWig   /content/drive/MyDrive/bioinfHW1/bismark_methylation_extractor_SRR5836473/SRR5836473_1_bismark_bt2_pe.bam.deduplicated.deduplicated.bedGraph m.chrom.sizes cell8_meth.bigWig.bw\n",
        "! bedGraphToBigWig   /content/drive/MyDrive/bioinfHW1/bismark_methylation_extractor_SRR3824222/SRR3824222_1_bismark_bt2_pe.bam.deduplicated.deduplicated.bedGraph m.chrom.sizes epiblast_meth.bigWig.bw\n",
        "! bedGraphToBigWig   /content/drive/MyDrive/bioinfHW1/bismark_methylation_extractor_SRR5836475/SRR5836475_1_bismark_bt2_pe.bam.deduplicated.deduplicated.bedGraph m.chrom.sizes icm_meth.bigWig.bw"
      ],
      "metadata": {
        "id": "p7CjvnFhwpyL"
      },
      "execution_count": 16,
      "outputs": []
    },
    {
      "cell_type": "code",
      "source": [
        "! pyGenomeTracks --tracks tracks.ini.txt --region chr11:3100030-4100030 -o image_cov_meth_10000.png"
      ],
      "metadata": {
        "colab": {
          "base_uri": "https://localhost:8080/"
        },
        "id": "1s16RBzMsD8k",
        "outputId": "0d7d380c-024c-42b7-b409-8f36dfe24199"
      },
      "execution_count": 19,
      "outputs": [
        {
          "output_type": "stream",
          "name": "stdout",
          "text": [
            "INFO:pygenometracks.tracksClass:initialize 1. [test bigwig]\n",
            "INFO:pygenometracks.tracksClass:initialize 2. [test bigwig]\n",
            "INFO:pygenometracks.tracksClass:initialize 3. [spacer]\n",
            "INFO:pygenometracks.tracksClass:initialize 4. [test bigwig]\n",
            "INFO:pygenometracks.tracksClass:initialize 5. [test bigwig]\n",
            "INFO:pygenometracks.tracksClass:initialize 6. [spacer]\n",
            "INFO:pygenometracks.tracksClass:initialize 7. [test bigwig]\n",
            "INFO:pygenometracks.tracksClass:initialize 8. [test bigwig]\n",
            "INFO:pygenometracks.tracksClass:time initializing track(s):\n",
            "INFO:pygenometracks.tracksClass:0.002991914749145508\n",
            "DEBUG:pygenometracks.tracksClass:Figure size in cm is 40 x 45.74468085106383. Dpi is set to 72\n",
            "\n",
            "INFO:pygenometracks.tracksClass:plotting 1. [test bigwig]\n",
            "INFO:pygenometracks.tracksClass:plotting 2. [test bigwig]\n",
            "INFO:pygenometracks.tracksClass:plotting 3. [spacer]\n",
            "INFO:pygenometracks.tracksClass:plotting 4. [test bigwig]\n",
            "INFO:pygenometracks.tracksClass:plotting 5. [test bigwig]\n",
            "INFO:pygenometracks.tracksClass:plotting 6. [spacer]\n",
            "INFO:pygenometracks.tracksClass:plotting 7. [test bigwig]\n",
            "INFO:pygenometracks.tracksClass:plotting 8. [test bigwig]\n"
          ]
        }
      ]
    },
    {
      "cell_type": "code",
      "source": [
        "! pyGenomeTracks --tracks tracks.ini.txt --region chr11:3100030-3200030 -o image_cov_meth_1000.png"
      ],
      "metadata": {
        "colab": {
          "base_uri": "https://localhost:8080/"
        },
        "id": "ZfUB8cbBiert",
        "outputId": "1fb51fb5-31ce-4f12-def4-828e4e288786"
      },
      "execution_count": 21,
      "outputs": [
        {
          "output_type": "stream",
          "name": "stdout",
          "text": [
            "INFO:pygenometracks.tracksClass:initialize 1. [test bigwig]\n",
            "INFO:pygenometracks.tracksClass:initialize 2. [test bigwig]\n",
            "INFO:pygenometracks.tracksClass:initialize 3. [spacer]\n",
            "INFO:pygenometracks.tracksClass:initialize 4. [test bigwig]\n",
            "INFO:pygenometracks.tracksClass:initialize 5. [test bigwig]\n",
            "INFO:pygenometracks.tracksClass:initialize 6. [spacer]\n",
            "INFO:pygenometracks.tracksClass:initialize 7. [test bigwig]\n",
            "INFO:pygenometracks.tracksClass:initialize 8. [test bigwig]\n",
            "INFO:pygenometracks.tracksClass:time initializing track(s):\n",
            "INFO:pygenometracks.tracksClass:0.0028619766235351562\n",
            "DEBUG:pygenometracks.tracksClass:Figure size in cm is 40 x 45.74468085106383. Dpi is set to 72\n",
            "\n",
            "INFO:pygenometracks.tracksClass:plotting 1. [test bigwig]\n",
            "INFO:pygenometracks.tracksClass:plotting 2. [test bigwig]\n",
            "INFO:pygenometracks.tracksClass:plotting 3. [spacer]\n",
            "INFO:pygenometracks.tracksClass:plotting 4. [test bigwig]\n",
            "INFO:pygenometracks.tracksClass:plotting 5. [test bigwig]\n",
            "INFO:pygenometracks.tracksClass:plotting 6. [spacer]\n",
            "INFO:pygenometracks.tracksClass:plotting 7. [test bigwig]\n",
            "INFO:pygenometracks.tracksClass:plotting 8. [test bigwig]\n"
          ]
        }
      ]
    },
    {
      "cell_type": "code",
      "source": [
        ""
      ],
      "metadata": {
        "id": "6TOILKI9sk5K"
      },
      "execution_count": null,
      "outputs": []
    }
  ],
  "metadata": {
    "colab": {
      "collapsed_sections": [
        "5l0a7C6JHe40",
        "Ugk3bV0LI5El",
        "EIuKpwRGNGSa",
        "CliRCSUQTmV-",
        "LKBD3cwo1wLx",
        "1yuRuud-mMK-",
        "cA9iWk3DEUGN",
        "eVG-rfN3V_7x",
        "KKxH9hj2Xtzd",
        "lRmC5U7uYMYW"
      ],
      "name": "Shilova_Ksenia_Methylation.ipynb\"",
      "provenance": []
    },
    "kernelspec": {
      "display_name": "Python 3",
      "name": "python3"
    },
    "language_info": {
      "name": "python"
    }
  },
  "nbformat": 4,
  "nbformat_minor": 0
}